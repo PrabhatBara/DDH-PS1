{
 "cells": [
  {
   "cell_type": "code",
   "execution_count": 6,
   "metadata": {},
   "outputs": [],
   "source": [
    "from padelpy import from_smiles\n",
    "\n",
    "#calculate molecular descriptors for propane\n",
    "descriptors = from_smiles('CCC')"
   ]
  },
  {
   "cell_type": "code",
   "execution_count": 7,
   "metadata": {},
   "outputs": [
    {
     "data": {
      "text/plain": [
       "collections.OrderedDict"
      ]
     },
     "execution_count": 7,
     "metadata": {},
     "output_type": "execute_result"
    }
   ],
   "source": [
    "type(descriptors)"
   ]
  },
  {
   "cell_type": "code",
   "execution_count": 8,
   "metadata": {},
   "outputs": [
    {
     "data": {
      "text/plain": [
       "1875"
      ]
     },
     "execution_count": 8,
     "metadata": {},
     "output_type": "execute_result"
    }
   ],
   "source": [
    "len(descriptors)"
   ]
  },
  {
   "cell_type": "code",
   "execution_count": 9,
   "metadata": {},
   "outputs": [],
   "source": [
    "descriptors = list(descriptors.items())"
   ]
  },
  {
   "cell_type": "code",
   "execution_count": 10,
   "metadata": {},
   "outputs": [],
   "source": [
    "descriptor_name = ['smile_ID']\n",
    "for name in descriptors:\n",
    "    descriptor_name.append(name[0])\n",
    "del(descriptors)"
   ]
  },
  {
   "cell_type": "code",
   "execution_count": 11,
   "metadata": {},
   "outputs": [
    {
     "data": {
      "text/html": [
       "<div>\n",
       "<style scoped>\n",
       "    .dataframe tbody tr th:only-of-type {\n",
       "        vertical-align: middle;\n",
       "    }\n",
       "\n",
       "    .dataframe tbody tr th {\n",
       "        vertical-align: top;\n",
       "    }\n",
       "\n",
       "    .dataframe thead th {\n",
       "        text-align: right;\n",
       "    }\n",
       "</style>\n",
       "<table border=\"1\" class=\"dataframe\">\n",
       "  <thead>\n",
       "    <tr style=\"text-align: right;\">\n",
       "      <th></th>\n",
       "      <th>Compound No.</th>\n",
       "      <th>SMILES</th>\n",
       "      <th>pIC50 (IC50 in microM)</th>\n",
       "    </tr>\n",
       "  </thead>\n",
       "  <tbody>\n",
       "    <tr>\n",
       "      <th>0</th>\n",
       "      <td>1</td>\n",
       "      <td>ClC1=CC(NC(=O)CSC2=NC=CC(=N2)C2=CSC(=N2)C2=CC=...</td>\n",
       "      <td>-0.477121255</td>\n",
       "    </tr>\n",
       "    <tr>\n",
       "      <th>1</th>\n",
       "      <td>2</td>\n",
       "      <td>CN1N=C(C=C1C(F)(F)F)C1=CC=C(S1)C1=CC=NC(SCC(=O...</td>\n",
       "      <td>-1</td>\n",
       "    </tr>\n",
       "    <tr>\n",
       "      <th>2</th>\n",
       "      <td>3</td>\n",
       "      <td>CSC1=C(C(C)=C(S1)C1=NC(C)=CS1)C1=CC=NC(SCC(=O)...</td>\n",
       "      <td>-1.041392685</td>\n",
       "    </tr>\n",
       "    <tr>\n",
       "      <th>3</th>\n",
       "      <td>4</td>\n",
       "      <td>CSC1=C(C(C)=C(S1)C1=NC(C)=CS1)C1=CC=NC(SCC(=O)...</td>\n",
       "      <td>BLINDED</td>\n",
       "    </tr>\n",
       "    <tr>\n",
       "      <th>4</th>\n",
       "      <td>5</td>\n",
       "      <td>CC1=NC(=CS1)C1=NC(=CS1)C1=NC(SCC(=O)NC2=CC=C(C...</td>\n",
       "      <td>-1.146128036</td>\n",
       "    </tr>\n",
       "  </tbody>\n",
       "</table>\n",
       "</div>"
      ],
      "text/plain": [
       "   Compound No.                                             SMILES  \\\n",
       "0             1  ClC1=CC(NC(=O)CSC2=NC=CC(=N2)C2=CSC(=N2)C2=CC=...   \n",
       "1             2  CN1N=C(C=C1C(F)(F)F)C1=CC=C(S1)C1=CC=NC(SCC(=O...   \n",
       "2             3  CSC1=C(C(C)=C(S1)C1=NC(C)=CS1)C1=CC=NC(SCC(=O)...   \n",
       "3             4  CSC1=C(C(C)=C(S1)C1=NC(C)=CS1)C1=CC=NC(SCC(=O)...   \n",
       "4             5  CC1=NC(=CS1)C1=NC(=CS1)C1=NC(SCC(=O)NC2=CC=C(C...   \n",
       "\n",
       "  pIC50 (IC50 in microM)  \n",
       "0           -0.477121255  \n",
       "1                     -1  \n",
       "2           -1.041392685  \n",
       "3                BLINDED  \n",
       "4           -1.146128036  "
      ]
     },
     "execution_count": 11,
     "metadata": {},
     "output_type": "execute_result"
    }
   ],
   "source": [
    "import pandas as pd\n",
    "import tabula \n",
    "tabula.convert_into(\"./data/smiles_pdf.pdf\", \"smiles.csv\", output_format=\"csv\", pages='all')\n",
    "smiles = pd.read_csv(\"smiles.csv\")\n",
    "len(smiles)\n",
    "smiles.head(5)"
   ]
  },
  {
   "cell_type": "code",
   "execution_count": 12,
   "metadata": {},
   "outputs": [],
   "source": [
    "smile_ids = smiles.iloc[:,1]"
   ]
  },
  {
   "cell_type": "code",
   "execution_count": 13,
   "metadata": {},
   "outputs": [],
   "source": [
    "def cal_des(smile):\n",
    "    descriptors = from_smiles(smile, timeout=30)\n",
    "    descriptors = list(descriptors.items())\n",
    "    descriptor_value = [smile]\n",
    "    for name in descriptors:\n",
    "        descriptor_value.append(name[1])\n",
    "    return descriptor_value"
   ]
  },
  {
   "cell_type": "code",
   "execution_count": 14,
   "metadata": {},
   "outputs": [
    {
     "name": "stdout",
     "output_type": "stream",
     "text": [
      "Calculating descriptor for smile ID :ClC1=CC(NC(=O)CSC2=NC=CC(=N2)C2=CSC(=N2)C2=CC=CC=C2)=CC(Cl)=C1\n",
      "Progress : 0/104\n",
      "Calculating descriptor for smile ID :CN1N=C(C=C1C(F)(F)F)C1=CC=C(S1)C1=CC=NC(SCC(=O)NC2=CC=C(Cl)C=C2)=N1\n",
      "Progress : 1/104\n",
      "Calculating descriptor for smile ID :CSC1=C(C(C)=C(S1)C1=NC(C)=CS1)C1=CC=NC(SCC(=O)NC2=CC=C(Cl)C=C2)=N1\n",
      "Progress : 2/104\n",
      "Calculating descriptor for smile ID :CSC1=C(C(C)=C(S1)C1=NC(C)=CS1)C1=CC=NC(SCC(=O)NC2=CC=CC=C2Cl)=N1\n",
      "Progress : 3/104\n",
      "Calculating descriptor for smile ID :CC1=NC(=CS1)C1=NC(=CS1)C1=NC(SCC(=O)NC2=CC=C(Cl)C=C2)=NC=C1\n",
      "Progress : 4/104\n",
      "Calculating descriptor for smile ID :ClC1=CC=C(NC(=O)CSC2=NC=CC(=N2)C2=CC(=NO2)C2=CC=CC=C2)C=C1\n",
      "Progress : 5/104\n",
      "Calculating descriptor for smile ID :FC(F)(F)C1=CC=C(NC(=O)CSC2=NC(=CC=N2)C2=CC(=NO2)C2=CC=C(Cl)C=C2Cl)C=C1\n",
      "Progress : 6/104\n",
      "Calculating descriptor for smile ID :ClC1=CC=C(NC(=O)CSC2=NC=CC(=N2)C2=CC(=NO2)C2=C(Cl)C=CC=C2)C=C1\n",
      "Progress : 7/104\n",
      "Calculating descriptor for smile ID :CCCC1=CC(Cl)=NC(SCC(=O)NC2=CC=C(Cl)C=C2)=N1\n",
      "Progress : 8/104\n",
      "Calculating descriptor for smile ID :COC1=CC(=CC=C1)C1=C(C#N)C(=O)NC(SCC(=O)NC2=CC=C(C=C2)S(N)(=O)=O)=N1\n",
      "Progress : 9/104\n",
      "Calculating descriptor for smile ID :CC(C)C1=CC=C(NC(=O)CSC2=NC(=CC=N2)C2=CC=CS2)C=C1\n",
      "Progress : 10/104\n",
      "Calculating descriptor for smile ID :COC1=C(OC)C=C(NC(=O)CSC2=NC(O)=CC(=N2)C2=CC=CC=C2)C=C1\n",
      "Progress : 11/104\n",
      "Calculating descriptor for smile ID :COC1=CC=CC(=C1)C1=C(C#N)C(=O)NC(SCC(=O)NC2=CC=C(C=C2)C(C)=O)=N1\n",
      "Progress : 12/104\n",
      "Calculating descriptor for smile ID :CCC(SC1=NC(C2=CC=CC(OC)=C2)=C(C#N)C(=O)N1)C(=O)NC1=CC=CC(=C1)C(C)=O\n",
      "Progress : 13/104\n",
      "Calculating descriptor for smile ID :CC1=CC(=O)NC(SCC(=O)NC2=C(OC3=CC=CC=C3)C=CC(Cl)=C2)=N1\n",
      "Progress : 14/104\n",
      "Calculating descriptor for smile ID :CC1=CC(O)=NC(SCC(=O)NC2=CC=C(OC3=CC=C(Cl)C=C3)C=C2)=N1\n",
      "Progress : 15/104\n",
      "Calculating descriptor for smile ID :CC(C)C1=CC=C(NC(=O)CSC2=NC=CC(=N2)C2=CSC(COC3=C(Cl)C=CC=C3)=N2)C=C1\n",
      "Progress : 16/104\n",
      "Calculating descriptor for smile ID :COC(OC)C1=CC(O)=NC(SCC(=O)NC2=CC=C(C=C2)C(F)(F)F)=N1\n",
      "Progress : 17/104\n",
      "Calculating descriptor for smile ID :CCCCC1=CC=C(NC(=O)CSC2=NC(C3CCCCC3)=C(C#N)C(=O)N2)C(C)=C1\n",
      "Progress : 18/104\n",
      "Calculating descriptor for smile ID :FC(F)(F)C1=CC=CC(NC(=O)CSC2=NC(C3=CC=CC=C3)=C(C#N)C(=O)N2)=C1\n",
      "Progress : 19/104\n",
      "Calculating descriptor for smile ID :CCOC(=O)C1=CN=C(SCC(=O)NC2=CC=C(C=C2)[N+]([O-])=O)N=C1N\n",
      "Progress : 20/104\n",
      "Calculating descriptor for smile ID :CCOC1=CC=C(C=C1)N1C(=O)CC(SC2=NC(C)=CC(C)=N2)C1=O\n",
      "Progress : 21/104\n",
      "Calculating descriptor for smile ID :COC1=CC=CC(=C1)C1=C(C#N)C(=O)NC(SCC(=O)NC2=CC=C(C=C2)[N+]([O-])=O)=N1\n",
      "Progress : 22/104\n",
      "Calculating descriptor for smile ID :CC(SC1=NC(C2=CC=CC=C2)=C(C#N)C(=O)N1)C(=O)NC1=CC=C(Cl)C=C1\n",
      "Progress : 23/104\n",
      "Calculating descriptor for smile ID :CC(C)(C)C1=CC=C(NC(=O)CSC2=NC(C3CCCCC3)=C(C#N)C(=O)N2)C=C1\n",
      "Progress : 24/104\n",
      "Calculating descriptor for smile ID :COC1=CC=C(C=C1)C1=NC(SCC(=O)NC2=CC=C(C=C2)C(C)C)=NC=C1\n",
      "Progress : 25/104\n",
      "Calculating descriptor for smile ID :CC1=NC(SCC(=O)NC2=CC=C(Cl)C=C2F)=NC(=C1)C(F)(F)F\n",
      "Progress : 26/104\n",
      "Calculating descriptor for smile ID :CC1=COC2=C1C(=O)C(=O)C1=C3CCCC(C)(C)C3=CC=C21\n",
      "Progress : 27/104\n",
      "Calculating descriptor for smile ID :CC1=COC2=C1C(=O)C(=O)C1=C3CCCC(C)(CO)C3=CC=C21\n",
      "Progress : 28/104\n",
      "Calculating descriptor for smile ID :COC(=O)C1(C)CCCC2=C3C(=O)C(=O)C4=C(OC=C4C)C3=CC=C12\n",
      "Progress : 29/104\n",
      "Calculating descriptor for smile ID :CC1COC2=C1C(=O)C(=O)C1=C3CCCC(C)(C)C3=CC=C21\n",
      "Progress : 30/104\n",
      "Calculating descriptor for smile ID :CC1=COC2=C1C(=O)C(=O)C1=C2C=CC2=C(C)C=CC=C12\n",
      "Progress : 31/104\n",
      "Calculating descriptor for smile ID :CC1COC2=C1C(=O)C(=O)C1=C2C=CC2=C(C)C=CC=C12\n",
      "Progress : 32/104\n",
      "Calculating descriptor for smile ID :CC(C)C1=CC2=CC=C3C(CCCC3(C)C)=C2C(=O)C1=O\n",
      "Progress : 33/104\n",
      "Calculating descriptor for smile ID :CC1=C(Cl)C=C(Cl)C(=C1)S(=O)(=O)C1=C(C=C(C=C1[N+]([O-])=O)C(F)(F)F)[N+]([O-])=O\n",
      "Progress : 34/104\n",
      "Calculating descriptor for smile ID :ClC(Cl)=C(Cl)C(=O)OC1=CC=C(C=C1)S(=O)(=O)C1=CC=C(OC(=O)C(Cl)=C(Cl)Cl)C=C1\n",
      "Progress : 35/104\n",
      "Calculating descriptor for smile ID :NC1=NC=C(C(N)=N1)S(=O)(=O)C1=CC=C(Cl)C=C1\n",
      "Progress : 36/104\n",
      "Calculating descriptor for smile ID :[O-][N+](=O)C1=CC(=CC=C1S(=O)(=O)C1=CC=C(Cl)C=C1)C(F)(F)F\n",
      "Progress : 37/104\n",
      "Calculating descriptor for smile ID :CC1=C(C(C)=C(C#N)C(=N1)S(=O)(=O)C1=CC=CC=C1)[N+]([O-])=O\n",
      "Progress : 38/104\n",
      "Calculating descriptor for smile ID :CC1=CC=C(C=C1)S(=O)(=O)C1=NC(C)=C(C(C)=C1C#N)[N+]([O-])=O\n",
      "Progress : 39/104\n",
      "Calculating descriptor for smile ID :[O-][N+](=O)C1=C[N+]([O-])=C(C=C1)S(=O)(=O)C1=CC=C(Cl)C=C1\n",
      "Progress : 40/104\n",
      "Calculating descriptor for smile ID :CCOC(=O)C(=C\\NC1=CC=C(C=C1)S(=O)(=O)C1=CC=C(N\\C=C(/C#N)C(=O)OCC)C=C1)\\C#N\n",
      "Progress : 41/104\n",
      "Calculating descriptor for smile ID :OC(=O)C1=CC=C(C=C1)S(=O)(=O)C1=CC(Br)=C(O)C(Br)=C1\n",
      "Progress : 42/104\n",
      "Calculating descriptor for smile ID :CC(=O)C1=CC=CC=C1S(=O)(=O)C1=CC=CC=C1C(O)=O\n",
      "Progress : 43/104\n",
      "Calculating descriptor for smile ID :[O-][N+](=O)C1=CC=C(C=C1)S(=O)(=O)C1=CC=C(C=C1)[N+]([O-])=O\n",
      "Progress : 44/104\n",
      "Calculating descriptor for smile ID :CCOC(=O)C(=CNC1=CC=C(C=C1)S(=O)(=O)C1=CC=C(NC=C(C(=O)OCC)C(=O)OCC)C=C1)C(=O)OCC\n",
      "Progress : 45/104\n",
      "Calculating descriptor for smile ID :FC(F)(F)C1=NN=C(N1)SC(=O)C1=CC=C(O1)C#CC1=CC=CC=C1\n",
      "Progress : 46/104\n",
      "Calculating descriptor for smile ID :CN1N=C(C=C1C1=CC=C(S1)C(=O)NC1=C(C(C)=NO1)[N+]([O-])=O)C(F)(F)F\n",
      "Progress : 47/104\n",
      "Calculating descriptor for smile ID :CC1=C(C=C(O1)C(C)(C)C)C1=NNC(NS(=O)(=O)C2=CC=CS2)=C1\n",
      "Progress : 48/104\n",
      "Calculating descriptor for smile ID :CSC1=NNC(NC(=O)C2=CC=CS2)=C1S(=O)(=O)C1=CC=C(Cl)C=C1\n",
      "Progress : 49/104\n",
      "Calculating descriptor for smile ID :CC1(C)CC2=C(SC(NCC3=CC=CO3)=C2C(=O)C1)C#N\n",
      "Progress : 50/104\n",
      "Calculating descriptor for smile ID :CSC1=NN(C2=C(C(C)=NN2C)[N+]([O-])=O)C(C2=CC=CS2)=C1C#N\n",
      "Progress : 51/104\n",
      "Calculating descriptor for smile ID :ClC1=CC=C(S1)C1=CSC(CS(=O)(=O)C2=CC=CS2)=N1\n",
      "Progress : 52/104\n",
      "Calculating descriptor for smile ID :CN1N=C(C)C(=C1NCC1=CC=C(S1)C1=CC=CS1)[N+]([O-])=O\n",
      "Progress : 53/104\n",
      "Calculating descriptor for smile ID :O=C(CC1=NCCS1)C1=NC=CS1\n",
      "Progress : 54/104\n",
      "Calculating descriptor for smile ID :ClC1=CC=C(C=C1)C1=CC=C(O1)C(=O)OC1=CN=CC(Cl)=C1\n",
      "Progress : 55/104\n",
      "Calculating descriptor for smile ID :[O-][N+](=O)C1=CC=C(C=C1)C1=CC=C(O1)C(=O)OC1=CN=CC(Cl)=C1\n",
      "Progress : 56/104\n",
      "Calculating descriptor for smile ID :[O-][N+](=O)C1=C(C=CC(Cl)=C1)C1=CC=C(O1)C(=O)OC1=CN=CC(Cl)=C1\n",
      "Progress : 57/104\n",
      "Calculating descriptor for smile ID :[O-][N+](=O)C1=C(C=CC=C1)C1=CC=C(O1)C(=O)OC1=CN=CC(Cl)=C1\n",
      "Progress : 58/104\n",
      "Calculating descriptor for smile ID :[O-][N+](=O)C1=CC=CC(=C1)C1=CC=C(O1)C(=O)OC1=CN=CC(Cl)=C1\n",
      "Progress : 59/104\n",
      "Calculating descriptor for smile ID :ClC1=CC(OC(=O)C2=CC=NC=C2)=CN=C1\n",
      "Progress : 60/104\n",
      "Calculating descriptor for smile ID :ClC1=CC(OC(=O)C2=CN=CC=C2)=CN=C1\n",
      "Progress : 61/104\n",
      "Calculating descriptor for smile ID :ClC1=CC=C(C=C1)C(=O)OC1=CN=CC(Cl)=C1\n",
      "Progress : 62/104\n",
      "Calculating descriptor for smile ID :[O-][N+](=O)C1=C(C=CC=C1)C(=O)OC1=CN=CC(Cl)=C1\n",
      "Progress : 63/104\n",
      "Calculating descriptor for smile ID :[O-][N+](=O)C1=CC=CC(=C1)C(=O)OC1=CN=CC(Cl)=C1\n",
      "Progress : 64/104\n",
      "Calculating descriptor for smile ID :ClC1=CC(OC(=O)C2=C3C=CC=CC3=CC=C2)=CN=C1\n",
      "Progress : 65/104\n",
      "Calculating descriptor for smile ID :ClC1=CC(OC(=O)C2=CC3=C(OC2=O)C=CC=C3)=CN=C1\n",
      "Progress : 66/104\n",
      "Calculating descriptor for smile ID :CN1CCN(CC1)S(=O)(=O)C1=CC2=C(NC(=O)C2=O)C=C1\n",
      "Progress : 67/104\n",
      "Calculating descriptor for smile ID :ClC1=CC(CN2CCN(CC2)S(=O)(=O)C2=CC3=C(NC(=O)C3=O)C=C2)=CC=C1\n",
      "Progress : 68/104\n",
      "Calculating descriptor for smile ID :COC1=CC(CN2CCN(CC2)S(=O)(=O)C2=CC3=C(NC(=O)C3=O)C=C2)=CC(OC)=C1OC\n",
      "Progress : 69/104\n",
      "Calculating descriptor for smile ID :O=C1NC2=C(C=C(C=C2)S(=O)(=O)N2CCN(CCC3=CC=CC=C3)CC2)C1=O\n",
      "Progress : 70/104\n",
      "Calculating descriptor for smile ID :O=C(N1CCN(CC1)S(=O)(=O)C1=CC2=C(NC(=O)C2=O)C=C1)C1=CC=CO1\n",
      "Progress : 71/104\n",
      "Calculating descriptor for smile ID :O=C1NC2=C(C=C(C=C2)S(=O)(=O)N2CCN(CC2)C2=CC=CC=N2)C1=O\n",
      "Progress : 72/104\n",
      "Calculating descriptor for smile ID :O=C1NC2=C(C=C(C=C2)S(=O)(=O)N2CCCCC2)C1=O\n",
      "Progress : 73/104\n",
      "Calculating descriptor for smile ID :O=C1NC2=C(C=C(C=C2)S(=O)(=O)N2CCOCC2)C1=O\n",
      "Progress : 74/104\n"
     ]
    },
    {
     "name": "stdout",
     "output_type": "stream",
     "text": [
      "Calculating descriptor for smile ID :CC1CCN(CC1)S(=O)(=O)C1=CC2=C(NC(=O)C2=O)C=C1\n",
      "Progress : 75/104\n",
      "Calculating descriptor for smile ID :CC1CCCCN1S(=O)(=O)C1=CC2=C(NC(=O)C2=O)C=C1\n",
      "Progress : 76/104\n",
      "Calculating descriptor for smile ID :CC1CC(C)CN(C1)S(=O)(=O)C1=CC2=C(NC(=O)C2=O)C=C1\n",
      "Progress : 77/104\n",
      "Calculating descriptor for smile ID :CN1C(=O)C(=O)C2=C1C=CC(=C2)S(=O)(=O)N1CCN(C)CC1\n",
      "Progress : 78/104\n",
      "Calculating descriptor for smile ID :CN1CCN(CC1)S(=O)(=O)C1=CC2=C(C=C1)N(CC1=CC=CC=C1)C(=O)C2=O\n",
      "Progress : 79/104\n",
      "Calculating descriptor for smile ID :CN1C(=O)C(=O)C2=C1C=CC(=C2)S(=O)(=O)N1CCOCC1\n",
      "Progress : 80/104\n",
      "Calculating descriptor for smile ID :O=C1N(CC2=CC=CC=C2)C2=C(C=C(C=C2)S(=O)(=O)N2CCOCC2)C1=O\n",
      "Progress : 81/104\n",
      "Calculating descriptor for smile ID :CC1CCN(CC1)S(=O)(=O)C1=CC2=C(C=C1)N(CC1=CC=CC=C1)C(=O)C2=O\n",
      "Progress : 82/104\n",
      "Calculating descriptor for smile ID :CC1CCN(CC1)S(=O)(=O)C1=CC2=C(C=C1)N(C)C(=O)C2=O\n",
      "Progress : 83/104\n",
      "Calculating descriptor for smile ID :CC1CC(C)CN(C1)S(=O)(=O)C1=CC2=C(C=C1)N(CC1=CC=CC=C1)C(=O)C2=O\n",
      "Progress : 84/104\n",
      "Calculating descriptor for smile ID :CN1CCN(CC1)S(=O)(=O)C1=CC=C2N(CC3=CC=C4C=CC=CC4=C3)C(=O)C(=O)C2=C1\n",
      "Progress : 85/104\n",
      "Calculating descriptor for smile ID :O=C1N(CC2=CC=C3C=CC=CC3=C2)C2=CC=C(C=C2C1=O)S(=O)(=O)N1CCN(CCC2=CC=CC=C2)CC1\n",
      "Progress : 86/104\n",
      "Calculating descriptor for smile ID :O=C1N(CC2=CC=C3C=CC=CC3=C2)C2=CC=C(C=C2C1=O)S(=O)(=O)N1CCN(CC1)C1=CC=CC=N1\n",
      "Progress : 87/104\n",
      "Calculating descriptor for smile ID :O=C1N(CC2=CC=C3C=CC=CC3=C2)C2=CC=C(C=C2C1=O)S(=O)(=O)N1CCCCC1\n",
      "Progress : 88/104\n",
      "Calculating descriptor for smile ID :O=C1N(CC2=CC=C3C=CC=CC3=C2)C2=CC=C(C=C2C1=O)S(=O)(=O)N1CCOCC1\n",
      "Progress : 89/104\n",
      "Calculating descriptor for smile ID :CC1CCN(CC1)S(=O)(=O)C1=CC=C2N(CC3=CC=C4C=CC=CC4=C3)C(=O)C(=O)C2=C1\n",
      "Progress : 90/104\n",
      "Calculating descriptor for smile ID :CC1CC(C)CN(C1)S(=O)(=O)C1=CC=C2N(CC3=CC=C4C=CC=CC4=C3)C(=O)C(=O)C2=C1\n",
      "Progress : 91/104\n",
      "Calculating descriptor for smile ID :CC1=C(CN2C(=O)C(=O)C3=CC(=CC=C23)C#N)C(C)=NO1\n",
      "Progress : 92/104\n",
      "Calculating descriptor for smile ID :FC1=CC(Cl)=C(CN2C(=O)C(=O)C3=CC(I)=CC=C23)C=C1\n",
      "Progress : 93/104\n",
      "Calculating descriptor for smile ID :IC1=CC=C2N(CC3COC4=C(O3)C=CC=C4)C(=O)C(=O)C2=C1\n",
      "Progress : 94/104\n",
      "Calculating descriptor for smile ID :O=C1N(CC2=CC3=CC=CC=C3S2)C2=CC=CC=C2C1=O\n",
      "Progress : 95/104\n",
      "Calculating descriptor for smile ID :[O-][N+](=O)C1=C2N(CC3=CC4=CC=CC=C4S3)C(=O)C(=O)C2=CC=C1\n",
      "Progress : 96/104\n",
      "Calculating descriptor for smile ID :BrC1=C2N(CC3=CC4=CC=CC=C4S3)C(=O)C(=O)C2=CC=C1\n",
      "Progress : 97/104\n",
      "Calculating descriptor for smile ID :FC1=CC=C2N(CC3=CC4=CC=CC=C4S3)C(=O)C(=O)C2=C1\n",
      "Progress : 98/104\n",
      "Calculating descriptor for smile ID :IC1=CC=C2N(CC3=CC4=CC=CC=C4S3)C(=O)C(=O)C2=C1\n",
      "Progress : 99/104\n",
      "Calculating descriptor for smile ID :ClC1=C2C(=O)C(=O)N(CC3=CC4=CC=CC=C4S3)C2=CC=C1\n",
      "Progress : 100/104\n",
      "Calculating descriptor for smile ID :IC1=CC=C2N(C\\C=C\\C3=CC4=CC=CC=C4S3)C(=O)C(=O)C2=C1\n",
      "Progress : 101/104\n",
      "Calculating descriptor for smile ID :ClC1=CC=C(NC(=O)C2=CC=C(CN3C(=O)C(=O)C4=CC(I)=CC=C34)S2)C=C1\n",
      "Progress : 102/104\n",
      "Calculating descriptor for smile ID :IC1=CC=C2N(CC3=CC=C(S3)C(=O)N3CCCCC3)C(=O)C(=O)C2=C1\n",
      "Progress : 103/104\n",
      "found errors on : []\n"
     ]
    }
   ],
   "source": [
    "descriptor_values = []\n",
    "counter = 0\n",
    "errors = []\n",
    "for smile in smile_ids:\n",
    "    print(\"Calculating descriptor for smile ID :{smile_}\".format(smile_ = smile))\n",
    "    print(\"Progress : {counter_}/{total}\".format(counter_ = counter , total = len(smile_ids)))\n",
    "    try:\n",
    "        descriptor_values.append(cal_des(smile))\n",
    "    except:\n",
    "        errors.append(counter)\n",
    "    counter += 1\n",
    "print(\"found errors on : {errors_}\".format(errors_ = errors))  \n",
    "data = pd.DataFrame(descriptor_values, columns= descriptor_name)"
   ]
  },
  {
   "cell_type": "code",
   "execution_count": 18,
   "metadata": {},
   "outputs": [],
   "source": [
    "data.to_csv(\"Calculated_descriptors.csv\")\n",
    "del(data)"
   ]
  },
  {
   "cell_type": "code",
   "execution_count": 20,
   "metadata": {},
   "outputs": [],
   "source": [
    "is_notblinded = smiles.iloc[:,1] != 'BLINDED'\n"
   ]
  },
  {
   "cell_type": "code",
   "execution_count": 29,
   "metadata": {},
   "outputs": [],
   "source": [
    "# Multiple Linear Regression\n",
    "%matplotlib inline\n",
    "# Importing the libraries\n",
    "import numpy as np\n",
    "import matplotlib.pyplot as plt\n",
    "import pandas as pd\n",
    "data_smiles = pd.read_csv(\"smiles.csv\")\n",
    "data_cal_des = pd.read_csv(\"Calculated_descriptors.csv\")"
   ]
  },
  {
   "cell_type": "code",
   "execution_count": 35,
   "metadata": {},
   "outputs": [
    {
     "data": {
      "text/plain": [
       "(104, 1877)"
      ]
     },
     "execution_count": 35,
     "metadata": {},
     "output_type": "execute_result"
    }
   ],
   "source": [
    "is_notblinded = data_smiles.iloc[:,2] != 'BLINDED'\n",
    "data_cal_des.shape"
   ]
  },
  {
   "cell_type": "code",
   "execution_count": 36,
   "metadata": {},
   "outputs": [
    {
     "name": "stdout",
     "output_type": "stream",
     "text": [
      "(94, 3)\n",
      "(94, 1877)\n"
     ]
    }
   ],
   "source": [
    "#filtering the dataset\n",
    "data_y = data_smiles[is_notblinded]\n",
    "data_X = data_cal_des[is_notblinded]\n",
    "print(data_y.shape)\n",
    "print(data_X.shape)"
   ]
  },
  {
   "cell_type": "code",
   "execution_count": 45,
   "metadata": {},
   "outputs": [
    {
     "name": "stdout",
     "output_type": "stream",
     "text": [
      "(94, 1875)\n",
      "(94,)\n"
     ]
    }
   ],
   "source": [
    "# Importing the dataset\n",
    "X = data_y.iloc[:, 2].values\n",
    "y = data_X.iloc[:, 2:1877].values\n",
    "\n",
    "X = np.asarray(X)\n",
    "X = X.astype(np.float)\n",
    "\n",
    "y = np.asarray(y)\n",
    "y = y.astype(np.float)\n",
    "\n",
    "print(y.shape)\n",
    "print(X.shape)"
   ]
  },
  {
   "cell_type": "code",
   "execution_count": 51,
   "metadata": {},
   "outputs": [],
   "source": [
    "# Splitting the dataset into the Training set and Test set\n",
    "from sklearn.model_selection import train_test_split\n",
    "X_train, X_test, y_train, y_test = train_test_split(X, y, test_size = 0.3, random_state = 0)"
   ]
  },
  {
   "cell_type": "code",
   "execution_count": 50,
   "metadata": {},
   "outputs": [
    {
     "ename": "ValueError",
     "evalue": "Expected 2D array, got 1D array instead:\narray=[-1.20411998 -1.32428246 -1.         -2.69897    -1.17609126 -0.69897\n -1.30103    -1.2509077  -0.67209786 -1.14176323  0.00877392 -0.30103\n -1.14612804 -0.07188201 -0.97312785 -2.35545152 -2.30103     0.78515615\n  0.15676722 -0.2278867  -1.00302947  0.96657624 -0.47712126 -1.17609126\n -2.30103    -2.30103    -1.39794001 -1.20411998 -1.17609126 -1.11760269\n  0.30103    -0.47712126 -1.07918125 -1.58771097  1.20065945 -1.77815125\n -1.11394335 -2.60205999  0.68193667 -1.65321251  0.52287874 -0.99607365\n  0.1649439  -0.45024911 -1.          0.04575749 -1.60064624 -2.30103\n -0.63346846 -2.39794001 -1.15836249 -1.60205999 -1.37106786 -1.09933528\n -1.07298475 -2.47712126 -0.68304704 -1.14176323 -1.39445168 -1.17609126\n -1.2552725  -1.20411998 -1.10243371  0.90657831 -1.77815125 -1.82736927\n -1.11394335 -2.47712126 -0.8573325  -1.60205999 -1.04921802 -0.35218252\n -1.71037126 -1.2552725  -1.17609126].\nReshape your data either using array.reshape(-1, 1) if your data has a single feature or array.reshape(1, -1) if it contains a single sample.",
     "output_type": "error",
     "traceback": [
      "\u001b[1;31m---------------------------------------------------------------------------\u001b[0m",
      "\u001b[1;31mValueError\u001b[0m                                Traceback (most recent call last)",
      "\u001b[1;32m<ipython-input-50-6c5da4290776>\u001b[0m in \u001b[0;36m<module>\u001b[1;34m\u001b[0m\n\u001b[0;32m      2\u001b[0m \u001b[1;32mfrom\u001b[0m \u001b[0msklearn\u001b[0m\u001b[1;33m.\u001b[0m\u001b[0mlinear_model\u001b[0m \u001b[1;32mimport\u001b[0m \u001b[0mLinearRegression\u001b[0m\u001b[1;33m\u001b[0m\u001b[1;33m\u001b[0m\u001b[0m\n\u001b[0;32m      3\u001b[0m \u001b[0mregressor\u001b[0m \u001b[1;33m=\u001b[0m \u001b[0mLinearRegression\u001b[0m\u001b[1;33m(\u001b[0m\u001b[1;33m)\u001b[0m\u001b[1;33m\u001b[0m\u001b[1;33m\u001b[0m\u001b[0m\n\u001b[1;32m----> 4\u001b[1;33m \u001b[0mregressor\u001b[0m\u001b[1;33m.\u001b[0m\u001b[0mfit\u001b[0m\u001b[1;33m(\u001b[0m\u001b[0mX_train\u001b[0m\u001b[1;33m,\u001b[0m \u001b[0my_train\u001b[0m\u001b[1;33m)\u001b[0m\u001b[1;33m\u001b[0m\u001b[1;33m\u001b[0m\u001b[0m\n\u001b[0m\u001b[0;32m      5\u001b[0m \u001b[1;33m\u001b[0m\u001b[0m\n\u001b[0;32m      6\u001b[0m \u001b[1;31m# Predicting the Test set results\u001b[0m\u001b[1;33m\u001b[0m\u001b[1;33m\u001b[0m\u001b[1;33m\u001b[0m\u001b[0m\n",
      "\u001b[1;32mc:\\users\\prabhatbara\\desktop\\iitbombay\\hackathons\\ps1\\lib\\site-packages\\sklearn\\linear_model\\_base.py\u001b[0m in \u001b[0;36mfit\u001b[1;34m(self, X, y, sample_weight)\u001b[0m\n\u001b[0;32m    504\u001b[0m         \u001b[0mn_jobs_\u001b[0m \u001b[1;33m=\u001b[0m \u001b[0mself\u001b[0m\u001b[1;33m.\u001b[0m\u001b[0mn_jobs\u001b[0m\u001b[1;33m\u001b[0m\u001b[1;33m\u001b[0m\u001b[0m\n\u001b[0;32m    505\u001b[0m         X, y = self._validate_data(X, y, accept_sparse=['csr', 'csc', 'coo'],\n\u001b[1;32m--> 506\u001b[1;33m                                    y_numeric=True, multi_output=True)\n\u001b[0m\u001b[0;32m    507\u001b[0m \u001b[1;33m\u001b[0m\u001b[0m\n\u001b[0;32m    508\u001b[0m         \u001b[1;32mif\u001b[0m \u001b[0msample_weight\u001b[0m \u001b[1;32mis\u001b[0m \u001b[1;32mnot\u001b[0m \u001b[1;32mNone\u001b[0m\u001b[1;33m:\u001b[0m\u001b[1;33m\u001b[0m\u001b[1;33m\u001b[0m\u001b[0m\n",
      "\u001b[1;32mc:\\users\\prabhatbara\\desktop\\iitbombay\\hackathons\\ps1\\lib\\site-packages\\sklearn\\base.py\u001b[0m in \u001b[0;36m_validate_data\u001b[1;34m(self, X, y, reset, validate_separately, **check_params)\u001b[0m\n\u001b[0;32m    430\u001b[0m                 \u001b[0my\u001b[0m \u001b[1;33m=\u001b[0m \u001b[0mcheck_array\u001b[0m\u001b[1;33m(\u001b[0m\u001b[0my\u001b[0m\u001b[1;33m,\u001b[0m \u001b[1;33m**\u001b[0m\u001b[0mcheck_y_params\u001b[0m\u001b[1;33m)\u001b[0m\u001b[1;33m\u001b[0m\u001b[1;33m\u001b[0m\u001b[0m\n\u001b[0;32m    431\u001b[0m             \u001b[1;32melse\u001b[0m\u001b[1;33m:\u001b[0m\u001b[1;33m\u001b[0m\u001b[1;33m\u001b[0m\u001b[0m\n\u001b[1;32m--> 432\u001b[1;33m                 \u001b[0mX\u001b[0m\u001b[1;33m,\u001b[0m \u001b[0my\u001b[0m \u001b[1;33m=\u001b[0m \u001b[0mcheck_X_y\u001b[0m\u001b[1;33m(\u001b[0m\u001b[0mX\u001b[0m\u001b[1;33m,\u001b[0m \u001b[0my\u001b[0m\u001b[1;33m,\u001b[0m \u001b[1;33m**\u001b[0m\u001b[0mcheck_params\u001b[0m\u001b[1;33m)\u001b[0m\u001b[1;33m\u001b[0m\u001b[1;33m\u001b[0m\u001b[0m\n\u001b[0m\u001b[0;32m    433\u001b[0m             \u001b[0mout\u001b[0m \u001b[1;33m=\u001b[0m \u001b[0mX\u001b[0m\u001b[1;33m,\u001b[0m \u001b[0my\u001b[0m\u001b[1;33m\u001b[0m\u001b[1;33m\u001b[0m\u001b[0m\n\u001b[0;32m    434\u001b[0m \u001b[1;33m\u001b[0m\u001b[0m\n",
      "\u001b[1;32mc:\\users\\prabhatbara\\desktop\\iitbombay\\hackathons\\ps1\\lib\\site-packages\\sklearn\\utils\\validation.py\u001b[0m in \u001b[0;36minner_f\u001b[1;34m(*args, **kwargs)\u001b[0m\n\u001b[0;32m     70\u001b[0m                           FutureWarning)\n\u001b[0;32m     71\u001b[0m         \u001b[0mkwargs\u001b[0m\u001b[1;33m.\u001b[0m\u001b[0mupdate\u001b[0m\u001b[1;33m(\u001b[0m\u001b[1;33m{\u001b[0m\u001b[0mk\u001b[0m\u001b[1;33m:\u001b[0m \u001b[0marg\u001b[0m \u001b[1;32mfor\u001b[0m \u001b[0mk\u001b[0m\u001b[1;33m,\u001b[0m \u001b[0marg\u001b[0m \u001b[1;32min\u001b[0m \u001b[0mzip\u001b[0m\u001b[1;33m(\u001b[0m\u001b[0msig\u001b[0m\u001b[1;33m.\u001b[0m\u001b[0mparameters\u001b[0m\u001b[1;33m,\u001b[0m \u001b[0margs\u001b[0m\u001b[1;33m)\u001b[0m\u001b[1;33m}\u001b[0m\u001b[1;33m)\u001b[0m\u001b[1;33m\u001b[0m\u001b[1;33m\u001b[0m\u001b[0m\n\u001b[1;32m---> 72\u001b[1;33m         \u001b[1;32mreturn\u001b[0m \u001b[0mf\u001b[0m\u001b[1;33m(\u001b[0m\u001b[1;33m**\u001b[0m\u001b[0mkwargs\u001b[0m\u001b[1;33m)\u001b[0m\u001b[1;33m\u001b[0m\u001b[1;33m\u001b[0m\u001b[0m\n\u001b[0m\u001b[0;32m     73\u001b[0m     \u001b[1;32mreturn\u001b[0m \u001b[0minner_f\u001b[0m\u001b[1;33m\u001b[0m\u001b[1;33m\u001b[0m\u001b[0m\n\u001b[0;32m     74\u001b[0m \u001b[1;33m\u001b[0m\u001b[0m\n",
      "\u001b[1;32mc:\\users\\prabhatbara\\desktop\\iitbombay\\hackathons\\ps1\\lib\\site-packages\\sklearn\\utils\\validation.py\u001b[0m in \u001b[0;36mcheck_X_y\u001b[1;34m(X, y, accept_sparse, accept_large_sparse, dtype, order, copy, force_all_finite, ensure_2d, allow_nd, multi_output, ensure_min_samples, ensure_min_features, y_numeric, estimator)\u001b[0m\n\u001b[0;32m    800\u001b[0m                     \u001b[0mensure_min_samples\u001b[0m\u001b[1;33m=\u001b[0m\u001b[0mensure_min_samples\u001b[0m\u001b[1;33m,\u001b[0m\u001b[1;33m\u001b[0m\u001b[1;33m\u001b[0m\u001b[0m\n\u001b[0;32m    801\u001b[0m                     \u001b[0mensure_min_features\u001b[0m\u001b[1;33m=\u001b[0m\u001b[0mensure_min_features\u001b[0m\u001b[1;33m,\u001b[0m\u001b[1;33m\u001b[0m\u001b[1;33m\u001b[0m\u001b[0m\n\u001b[1;32m--> 802\u001b[1;33m                     estimator=estimator)\n\u001b[0m\u001b[0;32m    803\u001b[0m     \u001b[1;32mif\u001b[0m \u001b[0mmulti_output\u001b[0m\u001b[1;33m:\u001b[0m\u001b[1;33m\u001b[0m\u001b[1;33m\u001b[0m\u001b[0m\n\u001b[0;32m    804\u001b[0m         y = check_array(y, accept_sparse='csr', force_all_finite=True,\n",
      "\u001b[1;32mc:\\users\\prabhatbara\\desktop\\iitbombay\\hackathons\\ps1\\lib\\site-packages\\sklearn\\utils\\validation.py\u001b[0m in \u001b[0;36minner_f\u001b[1;34m(*args, **kwargs)\u001b[0m\n\u001b[0;32m     70\u001b[0m                           FutureWarning)\n\u001b[0;32m     71\u001b[0m         \u001b[0mkwargs\u001b[0m\u001b[1;33m.\u001b[0m\u001b[0mupdate\u001b[0m\u001b[1;33m(\u001b[0m\u001b[1;33m{\u001b[0m\u001b[0mk\u001b[0m\u001b[1;33m:\u001b[0m \u001b[0marg\u001b[0m \u001b[1;32mfor\u001b[0m \u001b[0mk\u001b[0m\u001b[1;33m,\u001b[0m \u001b[0marg\u001b[0m \u001b[1;32min\u001b[0m \u001b[0mzip\u001b[0m\u001b[1;33m(\u001b[0m\u001b[0msig\u001b[0m\u001b[1;33m.\u001b[0m\u001b[0mparameters\u001b[0m\u001b[1;33m,\u001b[0m \u001b[0margs\u001b[0m\u001b[1;33m)\u001b[0m\u001b[1;33m}\u001b[0m\u001b[1;33m)\u001b[0m\u001b[1;33m\u001b[0m\u001b[1;33m\u001b[0m\u001b[0m\n\u001b[1;32m---> 72\u001b[1;33m         \u001b[1;32mreturn\u001b[0m \u001b[0mf\u001b[0m\u001b[1;33m(\u001b[0m\u001b[1;33m**\u001b[0m\u001b[0mkwargs\u001b[0m\u001b[1;33m)\u001b[0m\u001b[1;33m\u001b[0m\u001b[1;33m\u001b[0m\u001b[0m\n\u001b[0m\u001b[0;32m     73\u001b[0m     \u001b[1;32mreturn\u001b[0m \u001b[0minner_f\u001b[0m\u001b[1;33m\u001b[0m\u001b[1;33m\u001b[0m\u001b[0m\n\u001b[0;32m     74\u001b[0m \u001b[1;33m\u001b[0m\u001b[0m\n",
      "\u001b[1;32mc:\\users\\prabhatbara\\desktop\\iitbombay\\hackathons\\ps1\\lib\\site-packages\\sklearn\\utils\\validation.py\u001b[0m in \u001b[0;36mcheck_array\u001b[1;34m(array, accept_sparse, accept_large_sparse, dtype, order, copy, force_all_finite, ensure_2d, allow_nd, ensure_min_samples, ensure_min_features, estimator)\u001b[0m\n\u001b[0;32m    621\u001b[0m                     \u001b[1;34m\"Reshape your data either using array.reshape(-1, 1) if \"\u001b[0m\u001b[1;33m\u001b[0m\u001b[1;33m\u001b[0m\u001b[0m\n\u001b[0;32m    622\u001b[0m                     \u001b[1;34m\"your data has a single feature or array.reshape(1, -1) \"\u001b[0m\u001b[1;33m\u001b[0m\u001b[1;33m\u001b[0m\u001b[0m\n\u001b[1;32m--> 623\u001b[1;33m                     \"if it contains a single sample.\".format(array))\n\u001b[0m\u001b[0;32m    624\u001b[0m \u001b[1;33m\u001b[0m\u001b[0m\n\u001b[0;32m    625\u001b[0m         \u001b[1;31m# in the future np.flexible dtypes will be handled like object dtypes\u001b[0m\u001b[1;33m\u001b[0m\u001b[1;33m\u001b[0m\u001b[1;33m\u001b[0m\u001b[0m\n",
      "\u001b[1;31mValueError\u001b[0m: Expected 2D array, got 1D array instead:\narray=[-1.20411998 -1.32428246 -1.         -2.69897    -1.17609126 -0.69897\n -1.30103    -1.2509077  -0.67209786 -1.14176323  0.00877392 -0.30103\n -1.14612804 -0.07188201 -0.97312785 -2.35545152 -2.30103     0.78515615\n  0.15676722 -0.2278867  -1.00302947  0.96657624 -0.47712126 -1.17609126\n -2.30103    -2.30103    -1.39794001 -1.20411998 -1.17609126 -1.11760269\n  0.30103    -0.47712126 -1.07918125 -1.58771097  1.20065945 -1.77815125\n -1.11394335 -2.60205999  0.68193667 -1.65321251  0.52287874 -0.99607365\n  0.1649439  -0.45024911 -1.          0.04575749 -1.60064624 -2.30103\n -0.63346846 -2.39794001 -1.15836249 -1.60205999 -1.37106786 -1.09933528\n -1.07298475 -2.47712126 -0.68304704 -1.14176323 -1.39445168 -1.17609126\n -1.2552725  -1.20411998 -1.10243371  0.90657831 -1.77815125 -1.82736927\n -1.11394335 -2.47712126 -0.8573325  -1.60205999 -1.04921802 -0.35218252\n -1.71037126 -1.2552725  -1.17609126].\nReshape your data either using array.reshape(-1, 1) if your data has a single feature or array.reshape(1, -1) if it contains a single sample."
     ]
    }
   ],
   "source": [
    "# Fitting Multiple Linear Regression to the Training set\n",
    "from sklearn.linear_model import LinearRegression\n",
    "regressor = LinearRegression()\n",
    "regressor.fit(X_train, y_train)\n",
    "\n",
    "# Predicting the Test set results\n",
    "y_pred = regressor.predict(X_test)\n",
    "\n",
    "#evaluating the results\n",
    "from sklearn.metrics import r2_score\n",
    "print(r2_score(y_test,y_pred))"
   ]
  },
  {
   "cell_type": "code",
   "execution_count": 14,
   "metadata": {},
   "outputs": [
    {
     "ename": "ValueError",
     "evalue": "could not convert string to float: 'BLINDED'",
     "output_type": "error",
     "traceback": [
      "\u001b[1;31m---------------------------------------------------------------------------\u001b[0m",
      "\u001b[1;31mValueError\u001b[0m                                Traceback (most recent call last)",
      "\u001b[1;32m<ipython-input-14-914f9ff60744>\u001b[0m in \u001b[0;36m<module>\u001b[1;34m\u001b[0m\n\u001b[0;32m     26\u001b[0m \u001b[1;32mfrom\u001b[0m \u001b[0msklearn\u001b[0m\u001b[1;33m.\u001b[0m\u001b[0mlinear_model\u001b[0m \u001b[1;32mimport\u001b[0m \u001b[0mLinearRegression\u001b[0m\u001b[1;33m\u001b[0m\u001b[1;33m\u001b[0m\u001b[0m\n\u001b[0;32m     27\u001b[0m \u001b[0mregressor\u001b[0m \u001b[1;33m=\u001b[0m \u001b[0mLinearRegression\u001b[0m\u001b[1;33m(\u001b[0m\u001b[1;33m)\u001b[0m\u001b[1;33m\u001b[0m\u001b[1;33m\u001b[0m\u001b[0m\n\u001b[1;32m---> 28\u001b[1;33m \u001b[0mregressor\u001b[0m\u001b[1;33m.\u001b[0m\u001b[0mfit\u001b[0m\u001b[1;33m(\u001b[0m\u001b[0mX_train\u001b[0m\u001b[1;33m,\u001b[0m \u001b[0my_train\u001b[0m\u001b[1;33m)\u001b[0m\u001b[1;33m\u001b[0m\u001b[1;33m\u001b[0m\u001b[0m\n\u001b[0m\u001b[0;32m     29\u001b[0m \u001b[1;33m\u001b[0m\u001b[0m\n\u001b[0;32m     30\u001b[0m \u001b[1;31m# Predicting the Test set results\u001b[0m\u001b[1;33m\u001b[0m\u001b[1;33m\u001b[0m\u001b[1;33m\u001b[0m\u001b[0m\n",
      "\u001b[1;32mc:\\users\\prabhatbara\\desktop\\iitbombay\\hackathons\\ps1\\lib\\site-packages\\sklearn\\linear_model\\_base.py\u001b[0m in \u001b[0;36mfit\u001b[1;34m(self, X, y, sample_weight)\u001b[0m\n\u001b[0;32m    504\u001b[0m         \u001b[0mn_jobs_\u001b[0m \u001b[1;33m=\u001b[0m \u001b[0mself\u001b[0m\u001b[1;33m.\u001b[0m\u001b[0mn_jobs\u001b[0m\u001b[1;33m\u001b[0m\u001b[1;33m\u001b[0m\u001b[0m\n\u001b[0;32m    505\u001b[0m         X, y = self._validate_data(X, y, accept_sparse=['csr', 'csc', 'coo'],\n\u001b[1;32m--> 506\u001b[1;33m                                    y_numeric=True, multi_output=True)\n\u001b[0m\u001b[0;32m    507\u001b[0m \u001b[1;33m\u001b[0m\u001b[0m\n\u001b[0;32m    508\u001b[0m         \u001b[1;32mif\u001b[0m \u001b[0msample_weight\u001b[0m \u001b[1;32mis\u001b[0m \u001b[1;32mnot\u001b[0m \u001b[1;32mNone\u001b[0m\u001b[1;33m:\u001b[0m\u001b[1;33m\u001b[0m\u001b[1;33m\u001b[0m\u001b[0m\n",
      "\u001b[1;32mc:\\users\\prabhatbara\\desktop\\iitbombay\\hackathons\\ps1\\lib\\site-packages\\sklearn\\base.py\u001b[0m in \u001b[0;36m_validate_data\u001b[1;34m(self, X, y, reset, validate_separately, **check_params)\u001b[0m\n\u001b[0;32m    430\u001b[0m                 \u001b[0my\u001b[0m \u001b[1;33m=\u001b[0m \u001b[0mcheck_array\u001b[0m\u001b[1;33m(\u001b[0m\u001b[0my\u001b[0m\u001b[1;33m,\u001b[0m \u001b[1;33m**\u001b[0m\u001b[0mcheck_y_params\u001b[0m\u001b[1;33m)\u001b[0m\u001b[1;33m\u001b[0m\u001b[1;33m\u001b[0m\u001b[0m\n\u001b[0;32m    431\u001b[0m             \u001b[1;32melse\u001b[0m\u001b[1;33m:\u001b[0m\u001b[1;33m\u001b[0m\u001b[1;33m\u001b[0m\u001b[0m\n\u001b[1;32m--> 432\u001b[1;33m                 \u001b[0mX\u001b[0m\u001b[1;33m,\u001b[0m \u001b[0my\u001b[0m \u001b[1;33m=\u001b[0m \u001b[0mcheck_X_y\u001b[0m\u001b[1;33m(\u001b[0m\u001b[0mX\u001b[0m\u001b[1;33m,\u001b[0m \u001b[0my\u001b[0m\u001b[1;33m,\u001b[0m \u001b[1;33m**\u001b[0m\u001b[0mcheck_params\u001b[0m\u001b[1;33m)\u001b[0m\u001b[1;33m\u001b[0m\u001b[1;33m\u001b[0m\u001b[0m\n\u001b[0m\u001b[0;32m    433\u001b[0m             \u001b[0mout\u001b[0m \u001b[1;33m=\u001b[0m \u001b[0mX\u001b[0m\u001b[1;33m,\u001b[0m \u001b[0my\u001b[0m\u001b[1;33m\u001b[0m\u001b[1;33m\u001b[0m\u001b[0m\n\u001b[0;32m    434\u001b[0m \u001b[1;33m\u001b[0m\u001b[0m\n",
      "\u001b[1;32mc:\\users\\prabhatbara\\desktop\\iitbombay\\hackathons\\ps1\\lib\\site-packages\\sklearn\\utils\\validation.py\u001b[0m in \u001b[0;36minner_f\u001b[1;34m(*args, **kwargs)\u001b[0m\n\u001b[0;32m     70\u001b[0m                           FutureWarning)\n\u001b[0;32m     71\u001b[0m         \u001b[0mkwargs\u001b[0m\u001b[1;33m.\u001b[0m\u001b[0mupdate\u001b[0m\u001b[1;33m(\u001b[0m\u001b[1;33m{\u001b[0m\u001b[0mk\u001b[0m\u001b[1;33m:\u001b[0m \u001b[0marg\u001b[0m \u001b[1;32mfor\u001b[0m \u001b[0mk\u001b[0m\u001b[1;33m,\u001b[0m \u001b[0marg\u001b[0m \u001b[1;32min\u001b[0m \u001b[0mzip\u001b[0m\u001b[1;33m(\u001b[0m\u001b[0msig\u001b[0m\u001b[1;33m.\u001b[0m\u001b[0mparameters\u001b[0m\u001b[1;33m,\u001b[0m \u001b[0margs\u001b[0m\u001b[1;33m)\u001b[0m\u001b[1;33m}\u001b[0m\u001b[1;33m)\u001b[0m\u001b[1;33m\u001b[0m\u001b[1;33m\u001b[0m\u001b[0m\n\u001b[1;32m---> 72\u001b[1;33m         \u001b[1;32mreturn\u001b[0m \u001b[0mf\u001b[0m\u001b[1;33m(\u001b[0m\u001b[1;33m**\u001b[0m\u001b[0mkwargs\u001b[0m\u001b[1;33m)\u001b[0m\u001b[1;33m\u001b[0m\u001b[1;33m\u001b[0m\u001b[0m\n\u001b[0m\u001b[0;32m     73\u001b[0m     \u001b[1;32mreturn\u001b[0m \u001b[0minner_f\u001b[0m\u001b[1;33m\u001b[0m\u001b[1;33m\u001b[0m\u001b[0m\n\u001b[0;32m     74\u001b[0m \u001b[1;33m\u001b[0m\u001b[0m\n",
      "\u001b[1;32mc:\\users\\prabhatbara\\desktop\\iitbombay\\hackathons\\ps1\\lib\\site-packages\\sklearn\\utils\\validation.py\u001b[0m in \u001b[0;36mcheck_X_y\u001b[1;34m(X, y, accept_sparse, accept_large_sparse, dtype, order, copy, force_all_finite, ensure_2d, allow_nd, multi_output, ensure_min_samples, ensure_min_features, y_numeric, estimator)\u001b[0m\n\u001b[0;32m    800\u001b[0m                     \u001b[0mensure_min_samples\u001b[0m\u001b[1;33m=\u001b[0m\u001b[0mensure_min_samples\u001b[0m\u001b[1;33m,\u001b[0m\u001b[1;33m\u001b[0m\u001b[1;33m\u001b[0m\u001b[0m\n\u001b[0;32m    801\u001b[0m                     \u001b[0mensure_min_features\u001b[0m\u001b[1;33m=\u001b[0m\u001b[0mensure_min_features\u001b[0m\u001b[1;33m,\u001b[0m\u001b[1;33m\u001b[0m\u001b[1;33m\u001b[0m\u001b[0m\n\u001b[1;32m--> 802\u001b[1;33m                     estimator=estimator)\n\u001b[0m\u001b[0;32m    803\u001b[0m     \u001b[1;32mif\u001b[0m \u001b[0mmulti_output\u001b[0m\u001b[1;33m:\u001b[0m\u001b[1;33m\u001b[0m\u001b[1;33m\u001b[0m\u001b[0m\n\u001b[0;32m    804\u001b[0m         y = check_array(y, accept_sparse='csr', force_all_finite=True,\n",
      "\u001b[1;32mc:\\users\\prabhatbara\\desktop\\iitbombay\\hackathons\\ps1\\lib\\site-packages\\sklearn\\utils\\validation.py\u001b[0m in \u001b[0;36minner_f\u001b[1;34m(*args, **kwargs)\u001b[0m\n\u001b[0;32m     70\u001b[0m                           FutureWarning)\n\u001b[0;32m     71\u001b[0m         \u001b[0mkwargs\u001b[0m\u001b[1;33m.\u001b[0m\u001b[0mupdate\u001b[0m\u001b[1;33m(\u001b[0m\u001b[1;33m{\u001b[0m\u001b[0mk\u001b[0m\u001b[1;33m:\u001b[0m \u001b[0marg\u001b[0m \u001b[1;32mfor\u001b[0m \u001b[0mk\u001b[0m\u001b[1;33m,\u001b[0m \u001b[0marg\u001b[0m \u001b[1;32min\u001b[0m \u001b[0mzip\u001b[0m\u001b[1;33m(\u001b[0m\u001b[0msig\u001b[0m\u001b[1;33m.\u001b[0m\u001b[0mparameters\u001b[0m\u001b[1;33m,\u001b[0m \u001b[0margs\u001b[0m\u001b[1;33m)\u001b[0m\u001b[1;33m}\u001b[0m\u001b[1;33m)\u001b[0m\u001b[1;33m\u001b[0m\u001b[1;33m\u001b[0m\u001b[0m\n\u001b[1;32m---> 72\u001b[1;33m         \u001b[1;32mreturn\u001b[0m \u001b[0mf\u001b[0m\u001b[1;33m(\u001b[0m\u001b[1;33m**\u001b[0m\u001b[0mkwargs\u001b[0m\u001b[1;33m)\u001b[0m\u001b[1;33m\u001b[0m\u001b[1;33m\u001b[0m\u001b[0m\n\u001b[0m\u001b[0;32m     73\u001b[0m     \u001b[1;32mreturn\u001b[0m \u001b[0minner_f\u001b[0m\u001b[1;33m\u001b[0m\u001b[1;33m\u001b[0m\u001b[0m\n\u001b[0;32m     74\u001b[0m \u001b[1;33m\u001b[0m\u001b[0m\n",
      "\u001b[1;32mc:\\users\\prabhatbara\\desktop\\iitbombay\\hackathons\\ps1\\lib\\site-packages\\sklearn\\utils\\validation.py\u001b[0m in \u001b[0;36mcheck_array\u001b[1;34m(array, accept_sparse, accept_large_sparse, dtype, order, copy, force_all_finite, ensure_2d, allow_nd, ensure_min_samples, ensure_min_features, estimator)\u001b[0m\n\u001b[0;32m    596\u001b[0m                     \u001b[0marray\u001b[0m \u001b[1;33m=\u001b[0m \u001b[0marray\u001b[0m\u001b[1;33m.\u001b[0m\u001b[0mastype\u001b[0m\u001b[1;33m(\u001b[0m\u001b[0mdtype\u001b[0m\u001b[1;33m,\u001b[0m \u001b[0mcasting\u001b[0m\u001b[1;33m=\u001b[0m\u001b[1;34m\"unsafe\"\u001b[0m\u001b[1;33m,\u001b[0m \u001b[0mcopy\u001b[0m\u001b[1;33m=\u001b[0m\u001b[1;32mFalse\u001b[0m\u001b[1;33m)\u001b[0m\u001b[1;33m\u001b[0m\u001b[1;33m\u001b[0m\u001b[0m\n\u001b[0;32m    597\u001b[0m                 \u001b[1;32melse\u001b[0m\u001b[1;33m:\u001b[0m\u001b[1;33m\u001b[0m\u001b[1;33m\u001b[0m\u001b[0m\n\u001b[1;32m--> 598\u001b[1;33m                     \u001b[0marray\u001b[0m \u001b[1;33m=\u001b[0m \u001b[0mnp\u001b[0m\u001b[1;33m.\u001b[0m\u001b[0masarray\u001b[0m\u001b[1;33m(\u001b[0m\u001b[0marray\u001b[0m\u001b[1;33m,\u001b[0m \u001b[0morder\u001b[0m\u001b[1;33m=\u001b[0m\u001b[0morder\u001b[0m\u001b[1;33m,\u001b[0m \u001b[0mdtype\u001b[0m\u001b[1;33m=\u001b[0m\u001b[0mdtype\u001b[0m\u001b[1;33m)\u001b[0m\u001b[1;33m\u001b[0m\u001b[1;33m\u001b[0m\u001b[0m\n\u001b[0m\u001b[0;32m    599\u001b[0m             \u001b[1;32mexcept\u001b[0m \u001b[0mComplexWarning\u001b[0m\u001b[1;33m:\u001b[0m\u001b[1;33m\u001b[0m\u001b[1;33m\u001b[0m\u001b[0m\n\u001b[0;32m    600\u001b[0m                 raise ValueError(\"Complex data not supported\\n\"\n",
      "\u001b[1;32mc:\\users\\prabhatbara\\desktop\\iitbombay\\hackathons\\ps1\\lib\\site-packages\\numpy\\core\\_asarray.py\u001b[0m in \u001b[0;36masarray\u001b[1;34m(a, dtype, order)\u001b[0m\n\u001b[0;32m     81\u001b[0m \u001b[1;33m\u001b[0m\u001b[0m\n\u001b[0;32m     82\u001b[0m     \"\"\"\n\u001b[1;32m---> 83\u001b[1;33m     \u001b[1;32mreturn\u001b[0m \u001b[0marray\u001b[0m\u001b[1;33m(\u001b[0m\u001b[0ma\u001b[0m\u001b[1;33m,\u001b[0m \u001b[0mdtype\u001b[0m\u001b[1;33m,\u001b[0m \u001b[0mcopy\u001b[0m\u001b[1;33m=\u001b[0m\u001b[1;32mFalse\u001b[0m\u001b[1;33m,\u001b[0m \u001b[0morder\u001b[0m\u001b[1;33m=\u001b[0m\u001b[0morder\u001b[0m\u001b[1;33m)\u001b[0m\u001b[1;33m\u001b[0m\u001b[1;33m\u001b[0m\u001b[0m\n\u001b[0m\u001b[0;32m     84\u001b[0m \u001b[1;33m\u001b[0m\u001b[0m\n\u001b[0;32m     85\u001b[0m \u001b[1;33m\u001b[0m\u001b[0m\n",
      "\u001b[1;31mValueError\u001b[0m: could not convert string to float: 'BLINDED'"
     ]
    }
   ],
   "source": [
    "# Multiple Linear Regression\n",
    "\"\"\"\n",
    "# Encoding categorical data\n",
    "from sklearn.preprocessing import LabelEncoder, OneHotEncoder\n",
    "labelencoder = LabelEncoder()\n",
    "X[:, 3] = labelencoder.fit_transform(X[:, 3])\n",
    "onehotencoder = OneHotEncoder(categorical_features = [3])\n",
    "X = onehotencoder.fit_transform(X).toarray()\n",
    "\n",
    "# Avoiding the Dummy Variable Trap\n",
    "X = X[:, 1:]\n",
    "\"\"\"\n",
    "# Splitting the dataset into the Training set and Test set\n",
    "from sklearn.model_selection import train_test_split\n",
    "X_train, X_test, y_train, y_test = train_test_split(X, y, test_size = 0.2, random_state = 0)\n",
    "\n",
    "# Feature Scaling\n",
    "\"\"\"from sklearn.preprocessing import StandardScaler\n",
    "sc_X = StandardScaler()\n",
    "X_train = sc_X.fit_transform(X_train)\n",
    "X_test = sc_X.transform(X_test)\n",
    "sc_y = StandardScaler()\n",
    "y_train = sc_y.fit_transform(y_train)\"\"\"\n",
    "\n",
    "# Fitting Multiple Linear Regression to the Training set\n",
    "from sklearn.linear_model import LinearRegression\n",
    "regressor = LinearRegression()\n",
    "regressor.fit(X_train, y_train)\n",
    "\n",
    "# Predicting the Test set results\n",
    "y_pred = regressor.predict(X_test)\n",
    "\n",
    "#evaluating the results\n",
    "from sklearn.metrics import r2_score\n",
    "print(r2_score(y_test,y_pred))"
   ]
  }
 ],
 "metadata": {
  "kernelspec": {
   "display_name": "Python 3",
   "language": "python",
   "name": "python3"
  },
  "language_info": {
   "codemirror_mode": {
    "name": "ipython",
    "version": 3
   },
   "file_extension": ".py",
   "mimetype": "text/x-python",
   "name": "python",
   "nbconvert_exporter": "python",
   "pygments_lexer": "ipython3",
   "version": "3.7.8"
  }
 },
 "nbformat": 4,
 "nbformat_minor": 4
}
