{
 "cells": [
  {
   "cell_type": "code",
   "execution_count": 1,
   "metadata": {},
   "outputs": [],
   "source": [
    "import numpy as np\n",
    "import matplotlib.pyplot as plt\n",
    "import pandas as pd"
   ]
  },
  {
   "cell_type": "code",
   "execution_count": 2,
   "metadata": {},
   "outputs": [
    {
     "data": {
      "text/plain": [
       "(104, 1877)"
      ]
     },
     "execution_count": 2,
     "metadata": {},
     "output_type": "execute_result"
    }
   ],
   "source": [
    "data_smiles = pd.read_csv(\"../data/smiles.csv\")\n",
    "data_cal_des = pd.read_csv(\"../data/Calculated_descriptors.csv\")\n",
    "\n",
    "is_notblinded = data_smiles.iloc[:,2] != 'BLINDED'\n",
    "data_cal_des.shape"
   ]
  },
  {
   "cell_type": "code",
   "execution_count": 3,
   "metadata": {},
   "outputs": [
    {
     "name": "stdout",
     "output_type": "stream",
     "text": [
      "(94, 3)\n",
      "(94, 1877)\n"
     ]
    }
   ],
   "source": [
    "#filtering the dataset\n",
    "data_y = data_smiles[is_notblinded]\n",
    "data_X = data_cal_des[is_notblinded]\n",
    "print(data_y.shape)\n",
    "print(data_X.shape)"
   ]
  },
  {
   "cell_type": "code",
   "execution_count": 12,
   "metadata": {},
   "outputs": [
    {
     "name": "stdout",
     "output_type": "stream",
     "text": [
      "(94,)\n",
      "(94, 2)\n"
     ]
    }
   ],
   "source": [
    "X = data_X[[\"ALogp2\", \"ALogP\"]]\n",
    "X = np.nan_to_num(X)\n",
    "y = data_y.iloc[:, 2].values\n",
    "print(y.shape)\n",
    "print(X.shape)"
   ]
  },
  {
   "cell_type": "code",
   "execution_count": 15,
   "metadata": {},
   "outputs": [],
   "source": [
    "import numpy as np\n",
    "import matplotlib.pyplot as plt\n",
    "import pandas as pd\n",
    "\n",
    "def regressor(X,y):\n",
    "    from sklearn.preprocessing import StandardScaler\n",
    "    \n",
    "    from sklearn.model_selection import train_test_split\n",
    "    X_train, X_test, y_train, y_test = train_test_split(X, y, test_size = 0.3, random_state = 0)\n",
    "    Sc = StandardScaler()\n",
    "    X_train = Sc.fit_transform(X_train)\n",
    "    X_test = Sc.transform(X_test)\n",
    "    # Fitting Multiple Linear Regression to the Training set\n",
    "    from sklearn.linear_model import LinearRegression\n",
    "    regressor = LinearRegression()\n",
    "    regressor.fit(X_train, y_train)\n",
    "    \n",
    "    # Predicting the Test set results\n",
    "    y_pred = regressor.predict(X_test)\n",
    "    \n",
    "    #evaluating the results\n",
    "    from sklearn.metrics import r2_score\n",
    "    r2 = r2_score(y_test,y_pred)\n",
    "\n",
    "    return r2"
   ]
  },
  {
   "cell_type": "code",
   "execution_count": 6,
   "metadata": {},
   "outputs": [
    {
     "data": {
      "text/html": [
       "<div>\n",
       "<style scoped>\n",
       "    .dataframe tbody tr th:only-of-type {\n",
       "        vertical-align: middle;\n",
       "    }\n",
       "\n",
       "    .dataframe tbody tr th {\n",
       "        vertical-align: top;\n",
       "    }\n",
       "\n",
       "    .dataframe thead th {\n",
       "        text-align: right;\n",
       "    }\n",
       "</style>\n",
       "<table border=\"1\" class=\"dataframe\">\n",
       "  <thead>\n",
       "    <tr style=\"text-align: right;\">\n",
       "      <th></th>\n",
       "      <th>Descriptor type</th>\n",
       "      <th>Number</th>\n",
       "      <th>Descriptor</th>\n",
       "      <th>Class</th>\n",
       "      <th>Reference</th>\n",
       "    </tr>\n",
       "  </thead>\n",
       "  <tbody>\n",
       "    <tr>\n",
       "      <th>0</th>\n",
       "      <td>Acidic group count</td>\n",
       "      <td>1</td>\n",
       "      <td>nAcid</td>\n",
       "      <td>2D</td>\n",
       "      <td>NaN</td>\n",
       "    </tr>\n",
       "    <tr>\n",
       "      <th>1</th>\n",
       "      <td>ALOGP</td>\n",
       "      <td>3</td>\n",
       "      <td>ALogP, ALogp2, AMR</td>\n",
       "      <td>2D</td>\n",
       "      <td>Ghose, A.K. and Crippen, G.M. , Atomic physico...</td>\n",
       "    </tr>\n",
       "    <tr>\n",
       "      <th>2</th>\n",
       "      <td>APol</td>\n",
       "      <td>1</td>\n",
       "      <td>apol</td>\n",
       "      <td>2D</td>\n",
       "      <td>NaN</td>\n",
       "    </tr>\n",
       "    <tr>\n",
       "      <th>3</th>\n",
       "      <td>Aromatic atoms count</td>\n",
       "      <td>1</td>\n",
       "      <td>naAromAtom</td>\n",
       "      <td>2D</td>\n",
       "      <td>NaN</td>\n",
       "    </tr>\n",
       "    <tr>\n",
       "      <th>4</th>\n",
       "      <td>Aromatic bonds count</td>\n",
       "      <td>1</td>\n",
       "      <td>nAromBond</td>\n",
       "      <td>2D</td>\n",
       "      <td>NaN</td>\n",
       "    </tr>\n",
       "  </tbody>\n",
       "</table>\n",
       "</div>"
      ],
      "text/plain": [
       "        Descriptor type  Number          Descriptor Class  \\\n",
       "0    Acidic group count       1               nAcid    2D   \n",
       "1                 ALOGP       3  ALogP, ALogp2, AMR    2D   \n",
       "2                 APol        1                apol    2D   \n",
       "3  Aromatic atoms count       1          naAromAtom    2D   \n",
       "4  Aromatic bonds count       1           nAromBond    2D   \n",
       "\n",
       "                                           Reference  \n",
       "0                                                NaN  \n",
       "1  Ghose, A.K. and Crippen, G.M. , Atomic physico...  \n",
       "2                                                NaN  \n",
       "3                                                NaN  \n",
       "4                                                NaN  "
      ]
     },
     "execution_count": 6,
     "metadata": {},
     "output_type": "execute_result"
    }
   ],
   "source": [
    "descriptors = pd.read_excel(\"../data/Descriptors.xls\")\n",
    "descriptors.head(5)"
   ]
  },
  {
   "cell_type": "code",
   "execution_count": 16,
   "metadata": {},
   "outputs": [
    {
     "name": "stdout",
     "output_type": "stream",
     "text": [
      "Calculating for Acidic group count Descriptor Class \n",
      "r2 Score: -0.03479790470115485 \n",
      "Calculating for ALOGP Descriptor Class \n",
      "r2 Score: -0.09822143812002904 \n",
      "Calculating for APol  Descriptor Class \n",
      "r2 Score: -0.08408161925570656 \n",
      "Calculating for Aromatic atoms count Descriptor Class \n",
      "r2 Score: -0.050176902956137415 \n",
      "Calculating for Aromatic bonds count Descriptor Class \n",
      "r2 Score: -0.04606812138391514 \n",
      "Calculating for Atom count Descriptor Class \n",
      "r2 Score: -0.05104375902428049 \n",
      "Calculating for Autocorrelation Descriptor Class \n",
      "r2 Score: -1.4276260454968406 \n",
      "Calculating for Barysz matrix Descriptor Class \n",
      "r2 Score: -37.602985207844924 \n",
      "Calculating for Basic group count Descriptor Class \n",
      "r2 Score: 0.20576599080678115 \n",
      "Calculating for BCUT Descriptor Class \n",
      "r2 Score: -0.12073803480248335 \n",
      "Calculating for Bond count Descriptor Class \n",
      "r2 Score: 0.05207815881154787 \n",
      "Calculating for BPol  Descriptor Class \n",
      "r2 Score: -0.05159810396757525 \n",
      "Calculating for Burden modified eigenvalues Descriptor Class \n",
      "r2 Score: -0.3497393786050349 \n",
      "Calculating for Carbon types Descriptor Class \n",
      "r2 Score: -0.09391367202927592 \n",
      "Calculating for Chi chain Descriptor Class \n",
      "r2 Score: 0.01073497738106266 \n",
      "Calculating for Chi cluster Descriptor Class \n",
      "r2 Score: -0.10561007874446249 \n",
      "Calculating for Chi path cluster Descriptor Class \n",
      "r2 Score: -0.5116358830495469 \n",
      "Calculating for Chi path Descriptor Class \n",
      "r2 Score: -1.1935670413916912 \n",
      "Calculating for Constitutional Descriptor Class \n",
      "r2 Score: 0.2385815949592769 \n",
      "Calculating for Crippen logP and MR Descriptor Class \n",
      "r2 Score: -0.19266422675818662 \n",
      "Calculating for Detour matrix Descriptor Class \n",
      "r2 Score: -0.4194942085142792 \n",
      "Calculating for Eccentric connectivity index Descriptor Class \n",
      "r2 Score: -0.05475559686521181 \n",
      "Calculating for Atom type electrotopological state Descriptor Class \n",
      "r2 Score: -16.743475603667534 \n",
      "Calculating for Extended topochemical atom Descriptor Class \n",
      "r2 Score: -0.3859878970496824 \n",
      "Calculating for FMFDescriptor Descriptor Class \n",
      "r2 Score: 0.1982029034268542 \n",
      "Calculating for Fragment complexity Descriptor Class \n",
      "r2 Score: -0.20767567191987069 \n",
      "Calculating for Hbond acceptor count Descriptor Class \n",
      "r2 Score: 0.17773738697579522 \n",
      "Calculating for Hbond donor count Descriptor Class \n",
      "r2 Score: -0.04628727118265252 \n",
      "Calculating for Hybridization ratio Descriptor Class \n",
      "r2 Score: 0.22139221957383814 \n",
      "Calculating for Information content Descriptor Class \n",
      "r2 Score: -0.34608735709404104 \n",
      "Calculating for Kappa shape indices Descriptor Class \n",
      "r2 Score: -0.2654680821232136 \n",
      "Calculating for Largest chain Descriptor Class \n",
      "r2 Score: 0.08716395690592649 \n",
      "Calculating for Largest Pi system Descriptor Class \n",
      "r2 Score: 0.34386498770400575 \n",
      "Calculating for Longest aliphatic chain Descriptor Class \n",
      "r2 Score: 0.25103225431615017 \n",
      "Calculating for Mannhold LogP Descriptor Class \n",
      "r2 Score: -0.13845119461899258 \n",
      "Calculating for McGowan volume Descriptor Class \n",
      "r2 Score: 0.0063134332774458235 \n",
      "Calculating for Molecular distance edge Descriptor Class \n",
      "r2 Score: -4.6764845832494455 \n",
      "Calculating for Molecular linear free energy relation Descriptor Class \n",
      "r2 Score: 0.17613273193420476 \n",
      "Calculating for Path counts Descriptor Class \n",
      "r2 Score: -0.12860347598969502 \n",
      "Calculating for Petitjean number Descriptor Class \n",
      "r2 Score: -0.031266840157430975 \n",
      "Calculating for Ring count Descriptor Class \n",
      "r2 Score: -0.38400667397912414 \n",
      "Calculating for Rotatable bonds count Descriptor Class \n",
      "r2 Score: -0.05034451432283649 \n",
      "Calculating for Rule of five Descriptor Class \n",
      "r2 Score: -0.02849321306713648 \n",
      "Calculating for Topological Descriptor Class \n",
      "r2 Score: -0.038629811535986436 \n",
      "Calculating for Topological charge Descriptor Class \n",
      "r2 Score: -0.41958627780405267 \n",
      "Calculating for Topological distance matrix Descriptor Class \n",
      "r2 Score: -0.11891636376712067 \n",
      "Calculating for Topological polar surface area Descriptor Class \n",
      "r2 Score: -0.07983123827070648 \n",
      "Calculating for Van der Waals volume Descriptor Class \n",
      "r2 Score: 0.04701933168928141 \n",
      "Calculating for Vertex adjacency information (magnitude) Descriptor Class \n",
      "r2 Score: 0.0330161865371974 \n",
      "Calculating for Walk counts Descriptor Class \n",
      "r2 Score: 0.28785926304262144 \n",
      "Calculating for Weight Descriptor Class \n",
      "r2 Score: 0.024324771686647262 \n",
      "Calculating for Weighted path Descriptor Class \n",
      "r2 Score: 0.1299349765305443 \n",
      "Calculating for Wiener numbers Descriptor Class \n",
      "r2 Score: -0.11133789050800269 \n",
      "Calculating for XLogP Descriptor Class \n",
      "r2 Score: -0.03331188065740176 \n",
      "Calculating for Zagreb index Descriptor Class \n",
      "r2 Score: -0.07125831163727958 \n",
      "Calculating for 3D autocorrelation Descriptor Class \n",
      "r2 Score: -15.49146583318672 \n",
      "Calculating for Charged partial surface area Descriptor Class \n",
      "r2 Score: -0.11148651579860158 \n",
      "Calculating for Gravitational index Descriptor Class \n",
      "r2 Score: -0.49799333904024556 \n",
      "Calculating for Length over breadth Descriptor Class \n",
      "r2 Score: -0.2529201128935761 \n",
      "Calculating for Moment of inertia Descriptor Class \n",
      "r2 Score: -0.16072186025355117 \n",
      "Calculating for Petitjean shape index Descriptor Class \n",
      "r2 Score: -0.06810063238067032 \n",
      "Calculating for RDF Descriptor Class \n",
      "r2 Score: -3.937357057373095e+24 \n",
      "Calculating for WHIM Descriptor Class \n",
      "r2 Score: -37.574408261413765 \n"
     ]
    }
   ],
   "source": [
    "des_class = list(descriptors[\"Descriptor\"])\n",
    "r2 = []\n",
    "i = 0\n",
    "for des in des_class:\n",
    "    print(\"Calculating for {} Descriptor Class \".format(descriptors.iloc[i,0]))\n",
    "    if len(des) > 1:\n",
    "        subset = des.split(\", \")\n",
    "    else:\n",
    "        subset = des\n",
    "    X = data_X[subset].values\n",
    "    X = np.nan_to_num(X)\n",
    "    y = data_y.iloc[:, 2].values\n",
    "    try:\n",
    "        r2.append(regressor(X,y))\n",
    "    except:\n",
    "        r2.append('NaN')\n",
    "    print(\"r2 Score: {} \".format(r2[i]))\n",
    "    i += 1"
   ]
  },
  {
   "cell_type": "code",
   "execution_count": 17,
   "metadata": {},
   "outputs": [],
   "source": [
    "def filter_list(seq):\n",
    "    result = []\n",
    "    for i in seq:\n",
    "        if i > 0:\n",
    "            result.append(True)\n",
    "        else:\n",
    "            result.append(False)\n",
    "    return result"
   ]
  },
  {
   "cell_type": "code",
   "execution_count": 18,
   "metadata": {},
   "outputs": [],
   "source": [
    "check = filter_list(r2)\n",
    "i = 0\n",
    "dec_classes = []\n",
    "for dec in check:\n",
    "    if dec:\n",
    "        dec_classes.append(des_class[i])\n",
    "    i += 1"
   ]
  },
  {
   "cell_type": "code",
   "execution_count": 19,
   "metadata": {},
   "outputs": [
    {
     "name": "stdout",
     "output_type": "stream",
     "text": [
      "Calculating for Acidic group count Descriptor Class \n",
      "r2 Score: 0.20576599080678115 \n",
      "Calculating for ALOGP Descriptor Class \n",
      "r2 Score: 0.05207815881154787 \n",
      "Calculating for APol  Descriptor Class \n",
      "r2 Score: 0.01073497738106266 \n",
      "Calculating for Aromatic atoms count Descriptor Class \n",
      "r2 Score: 0.2385815949592769 \n",
      "Calculating for Aromatic bonds count Descriptor Class \n",
      "r2 Score: 0.1982029034268542 \n",
      "Calculating for Atom count Descriptor Class \n",
      "r2 Score: 0.17773738697579522 \n",
      "Calculating for Autocorrelation Descriptor Class \n",
      "r2 Score: 0.22139221957383814 \n",
      "Calculating for Barysz matrix Descriptor Class \n",
      "r2 Score: 0.08716395690592649 \n",
      "Calculating for Basic group count Descriptor Class \n",
      "r2 Score: 0.34386498770400575 \n",
      "Calculating for BCUT Descriptor Class \n",
      "r2 Score: 0.25103225431615017 \n",
      "Calculating for Bond count Descriptor Class \n",
      "r2 Score: 0.0063134332774458235 \n",
      "Calculating for BPol  Descriptor Class \n",
      "r2 Score: 0.17613273193420476 \n",
      "Calculating for Burden modified eigenvalues Descriptor Class \n",
      "r2 Score: 0.04701933168928141 \n",
      "Calculating for Carbon types Descriptor Class \n",
      "r2 Score: 0.0330161865371974 \n",
      "Calculating for Chi chain Descriptor Class \n",
      "r2 Score: 0.28785926304262144 \n",
      "Calculating for Chi cluster Descriptor Class \n",
      "r2 Score: 0.024324771686647262 \n",
      "Calculating for Chi path cluster Descriptor Class \n",
      "r2 Score: 0.1299349765305443 \n"
     ]
    }
   ],
   "source": [
    "r2 = []\n",
    "i = 0\n",
    "for des in dec_classes:\n",
    "    print(\"Calculating for {} Descriptor Class \".format(descriptors.iloc[i,0]))\n",
    "    if len(des) > 1:\n",
    "        subset = des.split(\", \")\n",
    "    else:\n",
    "        subset = des\n",
    "    X = data_X[subset].values\n",
    "    X = np.nan_to_num(X)\n",
    "    y = data_y.iloc[:, 2].values\n",
    "    try:\n",
    "        r2.append(regressor(X,y))\n",
    "    except:\n",
    "        r2.append('NaN')\n",
    "    print(\"r2 Score: {} \".format(r2[i]))\n",
    "    i += 1"
   ]
  },
  {
   "cell_type": "code",
   "execution_count": 20,
   "metadata": {},
   "outputs": [],
   "source": [
    "descriptors_new = []\n",
    "for des in dec_classes:\n",
    "    if len(des) > 1:\n",
    "        subset = des.split(\", \")\n",
    "    else:\n",
    "        subset = des\n",
    "    descriptors_new = descriptors_new + subset"
   ]
  },
  {
   "cell_type": "code",
   "execution_count": 29,
   "metadata": {},
   "outputs": [
    {
     "name": "stdout",
     "output_type": "stream",
     "text": [
      "New r2 score:  -5468.65063230475\n"
     ]
    }
   ],
   "source": [
    "import numpy as np\n",
    "import math\n",
    "X = data_X[descriptors_new].values\n",
    "X = np.nan_to_num(X)\n",
    "y = data_y.iloc[:, 2].values\n",
    "\n",
    "print(\"New r2 score: \", regressor(X,y))"
   ]
  },
  {
   "cell_type": "code",
   "execution_count": 30,
   "metadata": {},
   "outputs": [
    {
     "ename": "TypeError",
     "evalue": "unsupported operand type(s) for /: 'str' and 'int'",
     "output_type": "error",
     "traceback": [
      "\u001b[1;31m---------------------------------------------------------------------------\u001b[0m",
      "\u001b[1;31mTypeError\u001b[0m                                 Traceback (most recent call last)",
      "\u001b[1;32m<ipython-input-30-941938579091>\u001b[0m in \u001b[0;36m<module>\u001b[1;34m\u001b[0m\n\u001b[0;32m      9\u001b[0m \u001b[1;33m\u001b[0m\u001b[0m\n\u001b[0;32m     10\u001b[0m \u001b[1;31m# learn relationship from training data\u001b[0m\u001b[1;33m\u001b[0m\u001b[1;33m\u001b[0m\u001b[1;33m\u001b[0m\u001b[0m\n\u001b[1;32m---> 11\u001b[1;33m \u001b[0mfs\u001b[0m\u001b[1;33m.\u001b[0m\u001b[0mfit\u001b[0m\u001b[1;33m(\u001b[0m\u001b[0mX_train\u001b[0m\u001b[1;33m,\u001b[0m \u001b[0my_train\u001b[0m\u001b[1;33m)\u001b[0m\u001b[1;33m\u001b[0m\u001b[1;33m\u001b[0m\u001b[0m\n\u001b[0m\u001b[0;32m     12\u001b[0m \u001b[1;31m# transform train input data\u001b[0m\u001b[1;33m\u001b[0m\u001b[1;33m\u001b[0m\u001b[1;33m\u001b[0m\u001b[0m\n\u001b[0;32m     13\u001b[0m \u001b[0mX_train_fs\u001b[0m \u001b[1;33m=\u001b[0m \u001b[0mfs\u001b[0m\u001b[1;33m.\u001b[0m\u001b[0mtransform\u001b[0m\u001b[1;33m(\u001b[0m\u001b[0mX_train\u001b[0m\u001b[1;33m)\u001b[0m\u001b[1;33m\u001b[0m\u001b[1;33m\u001b[0m\u001b[0m\n",
      "\u001b[1;32mc:\\users\\prabhatbara\\desktop\\iitbombay\\hackathons\\ps1\\lib\\site-packages\\sklearn\\feature_selection\\_univariate_selection.py\u001b[0m in \u001b[0;36mfit\u001b[1;34m(self, X, y)\u001b[0m\n\u001b[0;32m    351\u001b[0m \u001b[1;33m\u001b[0m\u001b[0m\n\u001b[0;32m    352\u001b[0m         \u001b[0mself\u001b[0m\u001b[1;33m.\u001b[0m\u001b[0m_check_params\u001b[0m\u001b[1;33m(\u001b[0m\u001b[0mX\u001b[0m\u001b[1;33m,\u001b[0m \u001b[0my\u001b[0m\u001b[1;33m)\u001b[0m\u001b[1;33m\u001b[0m\u001b[1;33m\u001b[0m\u001b[0m\n\u001b[1;32m--> 353\u001b[1;33m         \u001b[0mscore_func_ret\u001b[0m \u001b[1;33m=\u001b[0m \u001b[0mself\u001b[0m\u001b[1;33m.\u001b[0m\u001b[0mscore_func\u001b[0m\u001b[1;33m(\u001b[0m\u001b[0mX\u001b[0m\u001b[1;33m,\u001b[0m \u001b[0my\u001b[0m\u001b[1;33m)\u001b[0m\u001b[1;33m\u001b[0m\u001b[1;33m\u001b[0m\u001b[0m\n\u001b[0m\u001b[0;32m    354\u001b[0m         \u001b[1;32mif\u001b[0m \u001b[0misinstance\u001b[0m\u001b[1;33m(\u001b[0m\u001b[0mscore_func_ret\u001b[0m\u001b[1;33m,\u001b[0m \u001b[1;33m(\u001b[0m\u001b[0mlist\u001b[0m\u001b[1;33m,\u001b[0m \u001b[0mtuple\u001b[0m\u001b[1;33m)\u001b[0m\u001b[1;33m)\u001b[0m\u001b[1;33m:\u001b[0m\u001b[1;33m\u001b[0m\u001b[1;33m\u001b[0m\u001b[0m\n\u001b[0;32m    355\u001b[0m             \u001b[0mself\u001b[0m\u001b[1;33m.\u001b[0m\u001b[0mscores_\u001b[0m\u001b[1;33m,\u001b[0m \u001b[0mself\u001b[0m\u001b[1;33m.\u001b[0m\u001b[0mpvalues_\u001b[0m \u001b[1;33m=\u001b[0m \u001b[0mscore_func_ret\u001b[0m\u001b[1;33m\u001b[0m\u001b[1;33m\u001b[0m\u001b[0m\n",
      "\u001b[1;32mc:\\users\\prabhatbara\\desktop\\iitbombay\\hackathons\\ps1\\lib\\site-packages\\sklearn\\utils\\validation.py\u001b[0m in \u001b[0;36minner_f\u001b[1;34m(*args, **kwargs)\u001b[0m\n\u001b[0;32m     70\u001b[0m                           FutureWarning)\n\u001b[0;32m     71\u001b[0m         \u001b[0mkwargs\u001b[0m\u001b[1;33m.\u001b[0m\u001b[0mupdate\u001b[0m\u001b[1;33m(\u001b[0m\u001b[1;33m{\u001b[0m\u001b[0mk\u001b[0m\u001b[1;33m:\u001b[0m \u001b[0marg\u001b[0m \u001b[1;32mfor\u001b[0m \u001b[0mk\u001b[0m\u001b[1;33m,\u001b[0m \u001b[0marg\u001b[0m \u001b[1;32min\u001b[0m \u001b[0mzip\u001b[0m\u001b[1;33m(\u001b[0m\u001b[0msig\u001b[0m\u001b[1;33m.\u001b[0m\u001b[0mparameters\u001b[0m\u001b[1;33m,\u001b[0m \u001b[0margs\u001b[0m\u001b[1;33m)\u001b[0m\u001b[1;33m}\u001b[0m\u001b[1;33m)\u001b[0m\u001b[1;33m\u001b[0m\u001b[1;33m\u001b[0m\u001b[0m\n\u001b[1;32m---> 72\u001b[1;33m         \u001b[1;32mreturn\u001b[0m \u001b[0mf\u001b[0m\u001b[1;33m(\u001b[0m\u001b[1;33m**\u001b[0m\u001b[0mkwargs\u001b[0m\u001b[1;33m)\u001b[0m\u001b[1;33m\u001b[0m\u001b[1;33m\u001b[0m\u001b[0m\n\u001b[0m\u001b[0;32m     73\u001b[0m     \u001b[1;32mreturn\u001b[0m \u001b[0minner_f\u001b[0m\u001b[1;33m\u001b[0m\u001b[1;33m\u001b[0m\u001b[0m\n\u001b[0;32m     74\u001b[0m \u001b[1;33m\u001b[0m\u001b[0m\n",
      "\u001b[1;32mc:\\users\\prabhatbara\\desktop\\iitbombay\\hackathons\\ps1\\lib\\site-packages\\sklearn\\feature_selection\\_univariate_selection.py\u001b[0m in \u001b[0;36mf_regression\u001b[1;34m(X, y, center)\u001b[0m\n\u001b[0;32m    287\u001b[0m     \u001b[1;31m# need not center X\u001b[0m\u001b[1;33m\u001b[0m\u001b[1;33m\u001b[0m\u001b[1;33m\u001b[0m\u001b[0m\n\u001b[0;32m    288\u001b[0m     \u001b[1;32mif\u001b[0m \u001b[0mcenter\u001b[0m\u001b[1;33m:\u001b[0m\u001b[1;33m\u001b[0m\u001b[1;33m\u001b[0m\u001b[0m\n\u001b[1;32m--> 289\u001b[1;33m         \u001b[0my\u001b[0m \u001b[1;33m=\u001b[0m \u001b[0my\u001b[0m \u001b[1;33m-\u001b[0m \u001b[0mnp\u001b[0m\u001b[1;33m.\u001b[0m\u001b[0mmean\u001b[0m\u001b[1;33m(\u001b[0m\u001b[0my\u001b[0m\u001b[1;33m)\u001b[0m\u001b[1;33m\u001b[0m\u001b[1;33m\u001b[0m\u001b[0m\n\u001b[0m\u001b[0;32m    290\u001b[0m         \u001b[1;32mif\u001b[0m \u001b[0missparse\u001b[0m\u001b[1;33m(\u001b[0m\u001b[0mX\u001b[0m\u001b[1;33m)\u001b[0m\u001b[1;33m:\u001b[0m\u001b[1;33m\u001b[0m\u001b[1;33m\u001b[0m\u001b[0m\n\u001b[0;32m    291\u001b[0m             \u001b[0mX_means\u001b[0m \u001b[1;33m=\u001b[0m \u001b[0mX\u001b[0m\u001b[1;33m.\u001b[0m\u001b[0mmean\u001b[0m\u001b[1;33m(\u001b[0m\u001b[0maxis\u001b[0m\u001b[1;33m=\u001b[0m\u001b[1;36m0\u001b[0m\u001b[1;33m)\u001b[0m\u001b[1;33m.\u001b[0m\u001b[0mgetA1\u001b[0m\u001b[1;33m(\u001b[0m\u001b[1;33m)\u001b[0m\u001b[1;33m\u001b[0m\u001b[1;33m\u001b[0m\u001b[0m\n",
      "\u001b[1;32m<__array_function__ internals>\u001b[0m in \u001b[0;36mmean\u001b[1;34m(*args, **kwargs)\u001b[0m\n",
      "\u001b[1;32mc:\\users\\prabhatbara\\desktop\\iitbombay\\hackathons\\ps1\\lib\\site-packages\\numpy\\core\\fromnumeric.py\u001b[0m in \u001b[0;36mmean\u001b[1;34m(a, axis, dtype, out, keepdims)\u001b[0m\n\u001b[0;32m   3371\u001b[0m \u001b[1;33m\u001b[0m\u001b[0m\n\u001b[0;32m   3372\u001b[0m     return _methods._mean(a, axis=axis, dtype=dtype,\n\u001b[1;32m-> 3373\u001b[1;33m                           out=out, **kwargs)\n\u001b[0m\u001b[0;32m   3374\u001b[0m \u001b[1;33m\u001b[0m\u001b[0m\n\u001b[0;32m   3375\u001b[0m \u001b[1;33m\u001b[0m\u001b[0m\n",
      "\u001b[1;32mc:\\users\\prabhatbara\\desktop\\iitbombay\\hackathons\\ps1\\lib\\site-packages\\numpy\\core\\_methods.py\u001b[0m in \u001b[0;36m_mean\u001b[1;34m(a, axis, dtype, out, keepdims)\u001b[0m\n\u001b[0;32m    170\u001b[0m             \u001b[0mret\u001b[0m \u001b[1;33m=\u001b[0m \u001b[0mret\u001b[0m\u001b[1;33m.\u001b[0m\u001b[0mdtype\u001b[0m\u001b[1;33m.\u001b[0m\u001b[0mtype\u001b[0m\u001b[1;33m(\u001b[0m\u001b[0mret\u001b[0m \u001b[1;33m/\u001b[0m \u001b[0mrcount\u001b[0m\u001b[1;33m)\u001b[0m\u001b[1;33m\u001b[0m\u001b[1;33m\u001b[0m\u001b[0m\n\u001b[0;32m    171\u001b[0m     \u001b[1;32melse\u001b[0m\u001b[1;33m:\u001b[0m\u001b[1;33m\u001b[0m\u001b[1;33m\u001b[0m\u001b[0m\n\u001b[1;32m--> 172\u001b[1;33m         \u001b[0mret\u001b[0m \u001b[1;33m=\u001b[0m \u001b[0mret\u001b[0m \u001b[1;33m/\u001b[0m \u001b[0mrcount\u001b[0m\u001b[1;33m\u001b[0m\u001b[1;33m\u001b[0m\u001b[0m\n\u001b[0m\u001b[0;32m    173\u001b[0m \u001b[1;33m\u001b[0m\u001b[0m\n\u001b[0;32m    174\u001b[0m     \u001b[1;32mreturn\u001b[0m \u001b[0mret\u001b[0m\u001b[1;33m\u001b[0m\u001b[1;33m\u001b[0m\u001b[0m\n",
      "\u001b[1;31mTypeError\u001b[0m: unsupported operand type(s) for /: 'str' and 'int'"
     ]
    }
   ],
   "source": [
    "from sklearn.feature_selection import f_regression\n",
    "from sklearn.feature_selection import SelectKBest\n",
    "# configure to select all features\n",
    "fs = SelectKBest(score_func= f_regressionregression, k='all')\n",
    "\n",
    "\n",
    "from sklearn.model_selection import train_test_split\n",
    "X_train, X_test, y_train, y_test = train_test_split(X, y, test_size = 0.3, random_state = 0)\n",
    "\n",
    "# learn relationship from training data\n",
    "fs.fit(X_train, y_train)\n",
    "# transform train input data\n",
    "X_train_fs = fs.transform(X_train)\n",
    "# transform test input data\n",
    "X_test_fs = fs.transform(X_test)"
   ]
  },
  {
   "cell_type": "code",
   "execution_count": null,
   "metadata": {},
   "outputs": [],
   "source": [
    "# what are scores for the features\n",
    "for i in range(len(fs.scores_)):\n",
    "print('Feature {}: {}'.format(i, fs.scores_[i]))\n",
    "# plot the scores\n",
    "pyplot.bar([i for i in range(len(fs.scores_))], fs.scores_)\n",
    "pyplot.show()"
   ]
  }
 ],
 "metadata": {
  "kernelspec": {
   "display_name": "Python 3",
   "language": "python",
   "name": "python3"
  },
  "language_info": {
   "codemirror_mode": {
    "name": "ipython",
    "version": 3
   },
   "file_extension": ".py",
   "mimetype": "text/x-python",
   "name": "python",
   "nbconvert_exporter": "python",
   "pygments_lexer": "ipython3",
   "version": "3.7.8"
  }
 },
 "nbformat": 4,
 "nbformat_minor": 4
}
