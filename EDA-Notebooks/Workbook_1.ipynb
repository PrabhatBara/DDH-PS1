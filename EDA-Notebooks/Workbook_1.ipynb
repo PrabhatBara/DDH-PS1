{
 "cells": [
  {
   "cell_type": "markdown",
   "metadata": {},
   "source": [
    "# What kind of descriptors are we dealing with?"
   ]
  },
  {
   "cell_type": "code",
   "execution_count": 31,
   "metadata": {},
   "outputs": [
    {
     "data": {
      "text/html": [
       "<div>\n",
       "<style scoped>\n",
       "    .dataframe tbody tr th:only-of-type {\n",
       "        vertical-align: middle;\n",
       "    }\n",
       "\n",
       "    .dataframe tbody tr th {\n",
       "        vertical-align: top;\n",
       "    }\n",
       "\n",
       "    .dataframe thead th {\n",
       "        text-align: right;\n",
       "    }\n",
       "</style>\n",
       "<table border=\"1\" class=\"dataframe\">\n",
       "  <thead>\n",
       "    <tr style=\"text-align: right;\">\n",
       "      <th></th>\n",
       "      <th>Descriptor type</th>\n",
       "      <th>Number</th>\n",
       "      <th>Descriptor</th>\n",
       "      <th>Class</th>\n",
       "      <th>Reference</th>\n",
       "    </tr>\n",
       "  </thead>\n",
       "  <tbody>\n",
       "    <tr>\n",
       "      <th>0</th>\n",
       "      <td>Acidic group count</td>\n",
       "      <td>1</td>\n",
       "      <td>nAcid</td>\n",
       "      <td>2D</td>\n",
       "      <td>NaN</td>\n",
       "    </tr>\n",
       "    <tr>\n",
       "      <th>1</th>\n",
       "      <td>ALOGP</td>\n",
       "      <td>3</td>\n",
       "      <td>ALogP, ALogp2, AMR</td>\n",
       "      <td>2D</td>\n",
       "      <td>Ghose, A.K. and Crippen, G.M. , Atomic physico...</td>\n",
       "    </tr>\n",
       "    <tr>\n",
       "      <th>2</th>\n",
       "      <td>APol</td>\n",
       "      <td>1</td>\n",
       "      <td>apol</td>\n",
       "      <td>2D</td>\n",
       "      <td>NaN</td>\n",
       "    </tr>\n",
       "    <tr>\n",
       "      <th>3</th>\n",
       "      <td>Aromatic atoms count</td>\n",
       "      <td>1</td>\n",
       "      <td>naAromAtom</td>\n",
       "      <td>2D</td>\n",
       "      <td>NaN</td>\n",
       "    </tr>\n",
       "    <tr>\n",
       "      <th>4</th>\n",
       "      <td>Aromatic bonds count</td>\n",
       "      <td>1</td>\n",
       "      <td>nAromBond</td>\n",
       "      <td>2D</td>\n",
       "      <td>NaN</td>\n",
       "    </tr>\n",
       "  </tbody>\n",
       "</table>\n",
       "</div>"
      ],
      "text/plain": [
       "        Descriptor type  Number          Descriptor Class  \\\n",
       "0    Acidic group count       1               nAcid    2D   \n",
       "1                 ALOGP       3  ALogP, ALogp2, AMR    2D   \n",
       "2                 APol        1                apol    2D   \n",
       "3  Aromatic atoms count       1          naAromAtom    2D   \n",
       "4  Aromatic bonds count       1           nAromBond    2D   \n",
       "\n",
       "                                           Reference  \n",
       "0                                                NaN  \n",
       "1  Ghose, A.K. and Crippen, G.M. , Atomic physico...  \n",
       "2                                                NaN  \n",
       "3                                                NaN  \n",
       "4                                                NaN  "
      ]
     },
     "execution_count": 31,
     "metadata": {},
     "output_type": "execute_result"
    }
   ],
   "source": [
    "import pandas as pd\n",
    "data = pd.read_excel(\"../data/Descriptors.xls\")\n",
    "data.head(5)"
   ]
  },
  {
   "cell_type": "markdown",
   "metadata": {},
   "source": [
    "how many descriptor classes are there?"
   ]
  },
  {
   "cell_type": "code",
   "execution_count": 7,
   "metadata": {
    "scrolled": true
   },
   "outputs": [],
   "source": [
    "def isNaN(num):\n",
    "    return num != num"
   ]
  },
  {
   "cell_type": "code",
   "execution_count": 14,
   "metadata": {},
   "outputs": [
    {
     "data": {
      "text/plain": [
       "pandas.core.series.Series"
      ]
     },
     "execution_count": 14,
     "metadata": {},
     "output_type": "execute_result"
    }
   ],
   "source": [
    "descriptor_class = data[\"Descriptor Java Class\"]\n",
    "i = 0\n",
    "for descriptor in descriptor_class:\n",
    "    if isNaN(descriptor):\n",
    "        descriptor_class[i] = descriptor_class[i-1]\n",
    "    i += 1"
   ]
  },
  {
   "cell_type": "code",
   "execution_count": 28,
   "metadata": {},
   "outputs": [
    {
     "data": {
      "text/plain": [
       "(55, 1)"
      ]
     },
     "execution_count": 28,
     "metadata": {},
     "output_type": "execute_result"
    }
   ],
   "source": [
    "descriptor_counts = pd.DataFrame(descriptor_class.value_counts())\n",
    "descriptor_counts.shape"
   ]
  },
  {
   "cell_type": "code",
   "execution_count": 30,
   "metadata": {},
   "outputs": [
    {
     "data": {
      "text/plain": [
       "1444"
      ]
     },
     "execution_count": 30,
     "metadata": {},
     "output_type": "execute_result"
    }
   ],
   "source": [
    "sum(descriptor_counts.iloc[:,0])"
   ]
  },
  {
   "cell_type": "code",
   "execution_count": 19,
   "metadata": {},
   "outputs": [
    {
     "data": {
      "text/plain": [
       "Counter({'AcidicGroupCountDescriptor': 1,\n",
       "         'ALOGPDescriptor': 1,\n",
       "         nan: 1389,\n",
       "         'APolDescriptor': 1,\n",
       "         'AromaticAtomsCountDescriptor': 1,\n",
       "         'AromaticBondsCountDescriptor': 1,\n",
       "         'AtomCountDescriptor': 1,\n",
       "         'AutocorrelationDescriptor': 1,\n",
       "         'BaryszMatrixDescriptor': 1,\n",
       "         'BasicGroupCountDescriptor': 1,\n",
       "         'BCUTDescriptor': 1,\n",
       "         'PaDELBondCountDescriptor': 1,\n",
       "         'BPolDescriptor': 1,\n",
       "         'BurdenModifiedEigenvaluesDescriptor': 1,\n",
       "         'PaDELCarbonTypesDescriptor': 1,\n",
       "         'ChiChainDescriptor': 1,\n",
       "         'ChiClusterDescriptor': 1,\n",
       "         'ChiPathClusterDescriptor': 1,\n",
       "         'PaDELChiPathDescriptor': 1,\n",
       "         'ConstitutionalDescriptor': 1,\n",
       "         'CrippenDescriptor': 1,\n",
       "         'DetourMatrixDescriptor': 1,\n",
       "         'EccentricConnectivityIndexDescriptor': 1,\n",
       "         'ElectrotopologicalStateAtomTypeDescriptor': 1,\n",
       "         'ExtendedTopochemicalAtomDescriptor': 1,\n",
       "         'FMFDescriptor': 1,\n",
       "         'PaDELFragmentComplexityDescriptor': 1,\n",
       "         'PaDELHBondAcceptorCountDescriptor': 1,\n",
       "         'PaDELHBondDonorCountDescriptor': 1,\n",
       "         'HybridizationRatioDescriptor': 1,\n",
       "         'InformationContentDescriptor': 1,\n",
       "         'KappaShapeIndicesDescriptor': 1,\n",
       "         'LargestChainDescriptor': 1,\n",
       "         'LargestPiSystemDescriptor': 1,\n",
       "         'LongestAliphaticChainDescriptor': 1,\n",
       "         'MannholdLogPDescriptor': 1,\n",
       "         'McGowanVolumeDescriptor': 1,\n",
       "         'MDEDescriptor': 1,\n",
       "         'MLFERDescriptor': 1,\n",
       "         'PathCountDescriptor': 1,\n",
       "         'PetitjeanNumberDescriptor': 1,\n",
       "         'RingCountDescriptor': 1,\n",
       "         'PaDELRotatableBondsCountDescriptor': 1,\n",
       "         'RuleOfFiveDescriptor': 1,\n",
       "         'TopologicalDescriptor': 1,\n",
       "         'TopologicalChargeDescriptor': 1,\n",
       "         'TopologicalDistanceMatrixDescriptor': 1,\n",
       "         'TPSADescriptor': 1,\n",
       "         'VABCDescriptor': 1,\n",
       "         'VAdjMaDescriptor': 1,\n",
       "         'WalkCountDescriptor': 1,\n",
       "         'PaDELWeightDescriptor': 1,\n",
       "         'PaDELWeightedPathDescriptor': 1,\n",
       "         'WienerNumbersDescriptor': 1,\n",
       "         'XLogPDescriptor': 1,\n",
       "         'ZagrebIndexDescriptor': 1})"
      ]
     },
     "execution_count": 19,
     "metadata": {},
     "output_type": "execute_result"
    }
   ],
   "source": [
    "from collections import Counter \n",
    "  \n",
    "def countDistinct(descriptor_class): \n",
    "  \n",
    "    # counter method gives dictionary of elements in list \n",
    "    # with their corresponding frequency. \n",
    "    # using keys() method of dictionary data structure \n",
    "    # we can count distinct values in array \n",
    "    return len(Counter(descriptor_class).keys())\n",
    "\n",
    "Counter(descriptor_class)"
   ]
  }
 ],
 "metadata": {
  "kernelspec": {
   "display_name": "Python 3",
   "language": "python",
   "name": "python3"
  },
  "language_info": {
   "codemirror_mode": {
    "name": "ipython",
    "version": 3
   },
   "file_extension": ".py",
   "mimetype": "text/x-python",
   "name": "python",
   "nbconvert_exporter": "python",
   "pygments_lexer": "ipython3",
   "version": "3.7.8"
  }
 },
 "nbformat": 4,
 "nbformat_minor": 4
}
