{
 "cells": [
  {
   "cell_type": "markdown",
   "metadata": {},
   "source": [
    "#AtomCountDescriptors\n",
    "1. nAtom\tNumber of atoms\n",
    "2. nHeavyAtom\tNumber of heavy atoms (i.e. not hydrogen)\n",
    "3. nH\tNumber of hydrogen atoms\n",
    "4. nB\tNumber of boron atoms\n",
    "5. nC\tNumber of carbon atoms\n",
    "6. nN\tNumber of nitrogen atoms\n",
    "7. nO\tNumber of oxygen atoms\n",
    "8. nS\tNumber of sulphur atoms\n",
    "9. nP\tNumber of phosphorus atoms\n",
    "10. nF\tNumber of fluorine atoms\n",
    "11. nCl\tNumber of chlorine atoms\n",
    "12. nBr\tNumber of bromine atoms\n",
    "13. nI\tNumber of iodine atoms\n",
    "14. nX\tNumber of halogen atoms (F, Cl, Br, I, At, Uus)"
   ]
  },
  {
   "cell_type": "code",
   "execution_count": 2,
   "metadata": {},
   "outputs": [],
   "source": [
    "# Importing the libraries\n",
    "import numpy as np\n",
    "import matplotlib.pyplot as plt\n",
    "import pandas as pd\n",
    "data_smiles = pd.read_csv(\"../smiles.csv\")\n",
    "data_cal_des = pd.read_csv(\"../Calculated_descriptors.csv\")"
   ]
  },
  {
   "cell_type": "code",
   "execution_count": 3,
   "metadata": {
    "scrolled": true
   },
   "outputs": [
    {
     "data": {
      "text/html": [
       "<div>\n",
       "<style scoped>\n",
       "    .dataframe tbody tr th:only-of-type {\n",
       "        vertical-align: middle;\n",
       "    }\n",
       "\n",
       "    .dataframe tbody tr th {\n",
       "        vertical-align: top;\n",
       "    }\n",
       "\n",
       "    .dataframe thead th {\n",
       "        text-align: right;\n",
       "    }\n",
       "</style>\n",
       "<table border=\"1\" class=\"dataframe\">\n",
       "  <thead>\n",
       "    <tr style=\"text-align: right;\">\n",
       "      <th></th>\n",
       "      <th>Compound No.</th>\n",
       "      <th>SMILES</th>\n",
       "      <th>pIC50 (IC50 in microM)</th>\n",
       "    </tr>\n",
       "  </thead>\n",
       "  <tbody>\n",
       "    <tr>\n",
       "      <th>0</th>\n",
       "      <td>1</td>\n",
       "      <td>ClC1=CC(NC(=O)CSC2=NC=CC(=N2)C2=CSC(=N2)C2=CC=...</td>\n",
       "      <td>-0.477121255</td>\n",
       "    </tr>\n",
       "    <tr>\n",
       "      <th>1</th>\n",
       "      <td>2</td>\n",
       "      <td>CN1N=C(C=C1C(F)(F)F)C1=CC=C(S1)C1=CC=NC(SCC(=O...</td>\n",
       "      <td>-1</td>\n",
       "    </tr>\n",
       "    <tr>\n",
       "      <th>2</th>\n",
       "      <td>3</td>\n",
       "      <td>CSC1=C(C(C)=C(S1)C1=NC(C)=CS1)C1=CC=NC(SCC(=O)...</td>\n",
       "      <td>-1.041392685</td>\n",
       "    </tr>\n",
       "    <tr>\n",
       "      <th>3</th>\n",
       "      <td>4</td>\n",
       "      <td>CSC1=C(C(C)=C(S1)C1=NC(C)=CS1)C1=CC=NC(SCC(=O)...</td>\n",
       "      <td>BLINDED</td>\n",
       "    </tr>\n",
       "    <tr>\n",
       "      <th>4</th>\n",
       "      <td>5</td>\n",
       "      <td>CC1=NC(=CS1)C1=NC(=CS1)C1=NC(SCC(=O)NC2=CC=C(C...</td>\n",
       "      <td>-1.146128036</td>\n",
       "    </tr>\n",
       "  </tbody>\n",
       "</table>\n",
       "</div>"
      ],
      "text/plain": [
       "   Compound No.                                             SMILES  \\\n",
       "0             1  ClC1=CC(NC(=O)CSC2=NC=CC(=N2)C2=CSC(=N2)C2=CC=...   \n",
       "1             2  CN1N=C(C=C1C(F)(F)F)C1=CC=C(S1)C1=CC=NC(SCC(=O...   \n",
       "2             3  CSC1=C(C(C)=C(S1)C1=NC(C)=CS1)C1=CC=NC(SCC(=O)...   \n",
       "3             4  CSC1=C(C(C)=C(S1)C1=NC(C)=CS1)C1=CC=NC(SCC(=O)...   \n",
       "4             5  CC1=NC(=CS1)C1=NC(=CS1)C1=NC(SCC(=O)NC2=CC=C(C...   \n",
       "\n",
       "  pIC50 (IC50 in microM)  \n",
       "0           -0.477121255  \n",
       "1                     -1  \n",
       "2           -1.041392685  \n",
       "3                BLINDED  \n",
       "4           -1.146128036  "
      ]
     },
     "execution_count": 3,
     "metadata": {},
     "output_type": "execute_result"
    }
   ],
   "source": [
    "data_smiles.head(5)"
   ]
  },
  {
   "cell_type": "code",
   "execution_count": 4,
   "metadata": {},
   "outputs": [
    {
     "data": {
      "text/html": [
       "<div>\n",
       "<style scoped>\n",
       "    .dataframe tbody tr th:only-of-type {\n",
       "        vertical-align: middle;\n",
       "    }\n",
       "\n",
       "    .dataframe tbody tr th {\n",
       "        vertical-align: top;\n",
       "    }\n",
       "\n",
       "    .dataframe thead th {\n",
       "        text-align: right;\n",
       "    }\n",
       "</style>\n",
       "<table border=\"1\" class=\"dataframe\">\n",
       "  <thead>\n",
       "    <tr style=\"text-align: right;\">\n",
       "      <th></th>\n",
       "      <th>Unnamed: 0</th>\n",
       "      <th>smile_ID</th>\n",
       "      <th>nAcid</th>\n",
       "      <th>ALogP</th>\n",
       "      <th>ALogp2</th>\n",
       "      <th>AMR</th>\n",
       "      <th>apol</th>\n",
       "      <th>naAromAtom</th>\n",
       "      <th>nAromBond</th>\n",
       "      <th>nAtom</th>\n",
       "      <th>...</th>\n",
       "      <th>P1s</th>\n",
       "      <th>P2s</th>\n",
       "      <th>E1s</th>\n",
       "      <th>E2s</th>\n",
       "      <th>E3s</th>\n",
       "      <th>Ts</th>\n",
       "      <th>As</th>\n",
       "      <th>Vs</th>\n",
       "      <th>Ks</th>\n",
       "      <th>Ds</th>\n",
       "    </tr>\n",
       "  </thead>\n",
       "  <tbody>\n",
       "    <tr>\n",
       "      <th>0</th>\n",
       "      <td>0</td>\n",
       "      <td>ClC1=CC(NC(=O)CSC2=NC=CC(=N2)C2=CSC(=N2)C2=CC=...</td>\n",
       "      <td>0</td>\n",
       "      <td>1.8674</td>\n",
       "      <td>3.487183</td>\n",
       "      <td>134.2482</td>\n",
       "      <td>61.657102</td>\n",
       "      <td>23</td>\n",
       "      <td>23</td>\n",
       "      <td>44</td>\n",
       "      <td>...</td>\n",
       "      <td>0.844559</td>\n",
       "      <td>0.143400</td>\n",
       "      <td>0.576319</td>\n",
       "      <td>0.397215</td>\n",
       "      <td>0.359925</td>\n",
       "      <td>38.197213</td>\n",
       "      <td>194.058561</td>\n",
       "      <td>313.526691</td>\n",
       "      <td>0.766839</td>\n",
       "      <td>1.333459</td>\n",
       "    </tr>\n",
       "    <tr>\n",
       "      <th>1</th>\n",
       "      <td>1</td>\n",
       "      <td>CN1N=C(C=C1C(F)(F)F)C1=CC=C(S1)C1=CC=NC(SCC(=O...</td>\n",
       "      <td>0</td>\n",
       "      <td>2.5212</td>\n",
       "      <td>6.356449</td>\n",
       "      <td>136.2083</td>\n",
       "      <td>62.914895</td>\n",
       "      <td>22</td>\n",
       "      <td>22</td>\n",
       "      <td>48</td>\n",
       "      <td>...</td>\n",
       "      <td>0.703605</td>\n",
       "      <td>0.273316</td>\n",
       "      <td>0.651215</td>\n",
       "      <td>0.490695</td>\n",
       "      <td>0.445324</td>\n",
       "      <td>34.140103</td>\n",
       "      <td>250.421523</td>\n",
       "      <td>461.173977</td>\n",
       "      <td>0.555407</td>\n",
       "      <td>1.587235</td>\n",
       "    </tr>\n",
       "    <tr>\n",
       "      <th>2</th>\n",
       "      <td>2</td>\n",
       "      <td>CSC1=C(C(C)=C(S1)C1=NC(C)=CS1)C1=CC=NC(SCC(=O)...</td>\n",
       "      <td>0</td>\n",
       "      <td>3.4635</td>\n",
       "      <td>11.995832</td>\n",
       "      <td>148.8825</td>\n",
       "      <td>70.371067</td>\n",
       "      <td>22</td>\n",
       "      <td>22</td>\n",
       "      <td>51</td>\n",
       "      <td>...</td>\n",
       "      <td>0.760510</td>\n",
       "      <td>0.177701</td>\n",
       "      <td>0.505675</td>\n",
       "      <td>0.446498</td>\n",
       "      <td>0.346187</td>\n",
       "      <td>31.942735</td>\n",
       "      <td>197.041832</td>\n",
       "      <td>501.140741</td>\n",
       "      <td>0.640766</td>\n",
       "      <td>1.298360</td>\n",
       "    </tr>\n",
       "    <tr>\n",
       "      <th>3</th>\n",
       "      <td>3</td>\n",
       "      <td>CSC1=C(C(C)=C(S1)C1=NC(C)=CS1)C1=CC=NC(SCC(=O)...</td>\n",
       "      <td>0</td>\n",
       "      <td>3.4635</td>\n",
       "      <td>11.995832</td>\n",
       "      <td>148.8825</td>\n",
       "      <td>70.371067</td>\n",
       "      <td>22</td>\n",
       "      <td>22</td>\n",
       "      <td>51</td>\n",
       "      <td>...</td>\n",
       "      <td>0.834081</td>\n",
       "      <td>0.115310</td>\n",
       "      <td>0.515730</td>\n",
       "      <td>0.349506</td>\n",
       "      <td>0.368112</td>\n",
       "      <td>34.145644</td>\n",
       "      <td>168.156090</td>\n",
       "      <td>396.080916</td>\n",
       "      <td>0.751122</td>\n",
       "      <td>1.233349</td>\n",
       "    </tr>\n",
       "    <tr>\n",
       "      <th>4</th>\n",
       "      <td>4</td>\n",
       "      <td>CC1=NC(=CS1)C1=NC(=CS1)C1=NC(SCC(=O)NC2=CC=C(C...</td>\n",
       "      <td>0</td>\n",
       "      <td>0.4261</td>\n",
       "      <td>0.181561</td>\n",
       "      <td>128.1008</td>\n",
       "      <td>59.957102</td>\n",
       "      <td>22</td>\n",
       "      <td>22</td>\n",
       "      <td>43</td>\n",
       "      <td>...</td>\n",
       "      <td>0.839833</td>\n",
       "      <td>0.100089</td>\n",
       "      <td>0.560831</td>\n",
       "      <td>0.371489</td>\n",
       "      <td>0.360291</td>\n",
       "      <td>35.016049</td>\n",
       "      <td>172.302879</td>\n",
       "      <td>424.136183</td>\n",
       "      <td>0.759750</td>\n",
       "      <td>1.292610</td>\n",
       "    </tr>\n",
       "  </tbody>\n",
       "</table>\n",
       "<p>5 rows × 1877 columns</p>\n",
       "</div>"
      ],
      "text/plain": [
       "   Unnamed: 0                                           smile_ID  nAcid  \\\n",
       "0           0  ClC1=CC(NC(=O)CSC2=NC=CC(=N2)C2=CSC(=N2)C2=CC=...      0   \n",
       "1           1  CN1N=C(C=C1C(F)(F)F)C1=CC=C(S1)C1=CC=NC(SCC(=O...      0   \n",
       "2           2  CSC1=C(C(C)=C(S1)C1=NC(C)=CS1)C1=CC=NC(SCC(=O)...      0   \n",
       "3           3  CSC1=C(C(C)=C(S1)C1=NC(C)=CS1)C1=CC=NC(SCC(=O)...      0   \n",
       "4           4  CC1=NC(=CS1)C1=NC(=CS1)C1=NC(SCC(=O)NC2=CC=C(C...      0   \n",
       "\n",
       "    ALogP     ALogp2       AMR       apol  naAromAtom  nAromBond  nAtom  ...  \\\n",
       "0  1.8674   3.487183  134.2482  61.657102          23         23     44  ...   \n",
       "1  2.5212   6.356449  136.2083  62.914895          22         22     48  ...   \n",
       "2  3.4635  11.995832  148.8825  70.371067          22         22     51  ...   \n",
       "3  3.4635  11.995832  148.8825  70.371067          22         22     51  ...   \n",
       "4  0.4261   0.181561  128.1008  59.957102          22         22     43  ...   \n",
       "\n",
       "        P1s       P2s       E1s       E2s       E3s         Ts          As  \\\n",
       "0  0.844559  0.143400  0.576319  0.397215  0.359925  38.197213  194.058561   \n",
       "1  0.703605  0.273316  0.651215  0.490695  0.445324  34.140103  250.421523   \n",
       "2  0.760510  0.177701  0.505675  0.446498  0.346187  31.942735  197.041832   \n",
       "3  0.834081  0.115310  0.515730  0.349506  0.368112  34.145644  168.156090   \n",
       "4  0.839833  0.100089  0.560831  0.371489  0.360291  35.016049  172.302879   \n",
       "\n",
       "           Vs        Ks        Ds  \n",
       "0  313.526691  0.766839  1.333459  \n",
       "1  461.173977  0.555407  1.587235  \n",
       "2  501.140741  0.640766  1.298360  \n",
       "3  396.080916  0.751122  1.233349  \n",
       "4  424.136183  0.759750  1.292610  \n",
       "\n",
       "[5 rows x 1877 columns]"
      ]
     },
     "execution_count": 4,
     "metadata": {},
     "output_type": "execute_result"
    }
   ],
   "source": [
    "data_cal_des.head(5)"
   ]
  },
  {
   "cell_type": "markdown",
   "metadata": {},
   "source": [
    "1. nAtom\tNumber of atoms"
   ]
  },
  {
   "cell_type": "code",
   "execution_count": 5,
   "metadata": {},
   "outputs": [
    {
     "data": {
      "text/plain": [
       "{'whiskers': [<matplotlib.lines.Line2D at 0x22e89a1eec8>,\n",
       "  <matplotlib.lines.Line2D at 0x22e89a4b908>],\n",
       " 'caps': [<matplotlib.lines.Line2D at 0x22e89a4bd08>,\n",
       "  <matplotlib.lines.Line2D at 0x22e89a4bd88>],\n",
       " 'boxes': [<matplotlib.lines.Line2D at 0x22e89a3df08>],\n",
       " 'medians': [<matplotlib.lines.Line2D at 0x22e89a4bdc8>],\n",
       " 'fliers': [<matplotlib.lines.Line2D at 0x22e89a4b448>],\n",
       " 'means': []}"
      ]
     },
     "execution_count": 5,
     "metadata": {},
     "output_type": "execute_result"
    },
    {
     "data": {
      "image/png": "[encoded data removed]",
      "text/plain": [
       "<Figure size 432x288 with 1 Axes>"
      ]
     },
     "metadata": {
      "needs_background": "light"
     },
     "output_type": "display_data"
    }
   ],
   "source": [
    "%matplotlib inline\n",
    "nAtom = data_cal_des[\"nAtom\"]\n",
    "import matplotlib.pyplot as plt\n",
    "plt.boxplot(nAtom)"
   ]
  },
  {
   "cell_type": "code",
   "execution_count": 6,
   "metadata": {},
   "outputs": [
    {
     "data": {
      "text/plain": [
       "(array([ 6., 10., 27., 14., 21., 12.,  7.,  5.,  0.,  2.]),\n",
       " array([21. , 26.2, 31.4, 36.6, 41.8, 47. , 52.2, 57.4, 62.6, 67.8, 73. ]),\n",
       " <BarContainer object of 10 artists>)"
      ]
     },
     "execution_count": 6,
     "metadata": {},
     "output_type": "execute_result"
    },
    {
     "data": {
      "image/png": "[encoded data removed]",
      "text/plain": [
       "<Figure size 432x288 with 1 Axes>"
      ]
     },
     "metadata": {
      "needs_background": "light"
     },
     "output_type": "display_data"
    }
   ],
   "source": [
    "plt.hist(nAtom,bins= 10)"
   ]
  },
  {
   "cell_type": "code",
   "execution_count": null,
   "metadata": {},
   "outputs": [],
   "source": []
  },
  {
   "cell_type": "code",
   "execution_count": 12,
   "metadata": {},
   "outputs": [
    {
     "data": {
      "text/html": [
       "<div>\n",
       "<style scoped>\n",
       "    .dataframe tbody tr th:only-of-type {\n",
       "        vertical-align: middle;\n",
       "    }\n",
       "\n",
       "    .dataframe tbody tr th {\n",
       "        vertical-align: top;\n",
       "    }\n",
       "\n",
       "    .dataframe thead th {\n",
       "        text-align: right;\n",
       "    }\n",
       "</style>\n",
       "<table border=\"1\" class=\"dataframe\">\n",
       "  <thead>\n",
       "    <tr style=\"text-align: right;\">\n",
       "      <th></th>\n",
       "      <th>Descriptor Java Class</th>\n",
       "      <th>Descriptor</th>\n",
       "      <th>Description</th>\n",
       "      <th>Class</th>\n",
       "    </tr>\n",
       "  </thead>\n",
       "  <tbody>\n",
       "    <tr>\n",
       "      <th>0</th>\n",
       "      <td>AcidicGroupCountDescriptor</td>\n",
       "      <td>nAcid</td>\n",
       "      <td>Number of acidic groups. The list of acidic gr...</td>\n",
       "      <td>2D</td>\n",
       "    </tr>\n",
       "    <tr>\n",
       "      <th>1</th>\n",
       "      <td>ALOGPDescriptor</td>\n",
       "      <td>ALogP</td>\n",
       "      <td>Ghose-Crippen LogKow</td>\n",
       "      <td>2D</td>\n",
       "    </tr>\n",
       "    <tr>\n",
       "      <th>2</th>\n",
       "      <td>NaN</td>\n",
       "      <td>ALogP2</td>\n",
       "      <td>Square of ALogP</td>\n",
       "      <td>2D</td>\n",
       "    </tr>\n",
       "    <tr>\n",
       "      <th>3</th>\n",
       "      <td>NaN</td>\n",
       "      <td>AMR</td>\n",
       "      <td>Molar refractivity</td>\n",
       "      <td>2D</td>\n",
       "    </tr>\n",
       "    <tr>\n",
       "      <th>4</th>\n",
       "      <td>APolDescriptor</td>\n",
       "      <td>apol</td>\n",
       "      <td>Sum of the atomic polarizabilities (including ...</td>\n",
       "      <td>2D</td>\n",
       "    </tr>\n",
       "  </tbody>\n",
       "</table>\n",
       "</div>"
      ],
      "text/plain": [
       "        Descriptor Java Class Descriptor  \\\n",
       "0  AcidicGroupCountDescriptor      nAcid   \n",
       "1             ALOGPDescriptor      ALogP   \n",
       "2                         NaN     ALogP2   \n",
       "3                         NaN        AMR   \n",
       "4              APolDescriptor       apol   \n",
       "\n",
       "                                         Description Class  \n",
       "0  Number of acidic groups. The list of acidic gr...    2D  \n",
       "1                               Ghose-Crippen LogKow    2D  \n",
       "2                                    Square of ALogP    2D  \n",
       "3                                 Molar refractivity    2D  \n",
       "4  Sum of the atomic polarizabilities (including ...    2D  "
      ]
     },
     "execution_count": 12,
     "metadata": {},
     "output_type": "execute_result"
    }
   ],
   "source": [
    "data = pd.read_excel(\"2Ddes.xlsx\")\n",
    "\n",
    "data.head(5)\n",
    "\n"
   ]
  },
  {
   "cell_type": "code",
   "execution_count": 17,
   "metadata": {
    "scrolled": true
   },
   "outputs": [
    {
     "data": {
      "text/plain": [
       "0       AcidicGroupCountDescriptor\n",
       "1                  ALOGPDescriptor\n",
       "2                              NaN\n",
       "3                              NaN\n",
       "4                   APolDescriptor\n",
       "                   ...            \n",
       "1439                           NaN\n",
       "1440       WienerNumbersDescriptor\n",
       "1441                           NaN\n",
       "1442               XLogPDescriptor\n",
       "1443         ZagrebIndexDescriptor\n",
       "Name: Descriptor Java Class, Length: 1444, dtype: object"
      ]
     },
     "execution_count": 17,
     "metadata": {},
     "output_type": "execute_result"
    }
   ],
   "source": [
    "descriptor_class = data[\"Descriptor Java Class\"]\n",
    "descriptor_class"
   ]
  },
  {
   "cell_type": "code",
   "execution_count": 19,
   "metadata": {},
   "outputs": [
    {
     "data": {
      "text/plain": [
       "Counter({'AcidicGroupCountDescriptor': 1,\n",
       "         'ALOGPDescriptor': 1,\n",
       "         nan: 1389,\n",
       "         'APolDescriptor': 1,\n",
       "         'AromaticAtomsCountDescriptor': 1,\n",
       "         'AromaticBondsCountDescriptor': 1,\n",
       "         'AtomCountDescriptor': 1,\n",
       "         'AutocorrelationDescriptor': 1,\n",
       "         'BaryszMatrixDescriptor': 1,\n",
       "         'BasicGroupCountDescriptor': 1,\n",
       "         'BCUTDescriptor': 1,\n",
       "         'PaDELBondCountDescriptor': 1,\n",
       "         'BPolDescriptor': 1,\n",
       "         'BurdenModifiedEigenvaluesDescriptor': 1,\n",
       "         'PaDELCarbonTypesDescriptor': 1,\n",
       "         'ChiChainDescriptor': 1,\n",
       "         'ChiClusterDescriptor': 1,\n",
       "         'ChiPathClusterDescriptor': 1,\n",
       "         'PaDELChiPathDescriptor': 1,\n",
       "         'ConstitutionalDescriptor': 1,\n",
       "         'CrippenDescriptor': 1,\n",
       "         'DetourMatrixDescriptor': 1,\n",
       "         'EccentricConnectivityIndexDescriptor': 1,\n",
       "         'ElectrotopologicalStateAtomTypeDescriptor': 1,\n",
       "         'ExtendedTopochemicalAtomDescriptor': 1,\n",
       "         'FMFDescriptor': 1,\n",
       "         'PaDELFragmentComplexityDescriptor': 1,\n",
       "         'PaDELHBondAcceptorCountDescriptor': 1,\n",
       "         'PaDELHBondDonorCountDescriptor': 1,\n",
       "         'HybridizationRatioDescriptor': 1,\n",
       "         'InformationContentDescriptor': 1,\n",
       "         'KappaShapeIndicesDescriptor': 1,\n",
       "         'LargestChainDescriptor': 1,\n",
       "         'LargestPiSystemDescriptor': 1,\n",
       "         'LongestAliphaticChainDescriptor': 1,\n",
       "         'MannholdLogPDescriptor': 1,\n",
       "         'McGowanVolumeDescriptor': 1,\n",
       "         'MDEDescriptor': 1,\n",
       "         'MLFERDescriptor': 1,\n",
       "         'PathCountDescriptor': 1,\n",
       "         'PetitjeanNumberDescriptor': 1,\n",
       "         'RingCountDescriptor': 1,\n",
       "         'PaDELRotatableBondsCountDescriptor': 1,\n",
       "         'RuleOfFiveDescriptor': 1,\n",
       "         'TopologicalDescriptor': 1,\n",
       "         'TopologicalChargeDescriptor': 1,\n",
       "         'TopologicalDistanceMatrixDescriptor': 1,\n",
       "         'TPSADescriptor': 1,\n",
       "         'VABCDescriptor': 1,\n",
       "         'VAdjMaDescriptor': 1,\n",
       "         'WalkCountDescriptor': 1,\n",
       "         'PaDELWeightDescriptor': 1,\n",
       "         'PaDELWeightedPathDescriptor': 1,\n",
       "         'WienerNumbersDescriptor': 1,\n",
       "         'XLogPDescriptor': 1,\n",
       "         'ZagrebIndexDescriptor': 1})"
      ]
     },
     "execution_count": 19,
     "metadata": {},
     "output_type": "execute_result"
    }
   ],
   "source": [
    "from collections import Counter \n",
    "  \n",
    "def countDistinct(descriptor_class): \n",
    "  \n",
    "    # counter method gives dictionary of elements in list \n",
    "    # with their corresponding frequency. \n",
    "    # using keys() method of dictionary data structure \n",
    "    # we can count distinct values in array \n",
    "    return len(Counter(descriptor_class).keys())\n",
    "\n",
    "Counter(descriptor_class)"
   ]
  }
 ],
 "metadata": {
  "kernelspec": {
   "display_name": "Python 3",
   "language": "python",
   "name": "python3"
  },
  "language_info": {
   "codemirror_mode": {
    "name": "ipython",
    "version": 3
   },
   "file_extension": ".py",
   "mimetype": "text/x-python",
   "name": "python",
   "nbconvert_exporter": "python",
   "pygments_lexer": "ipython3",
   "version": "3.7.8"
  }
 },
 "nbformat": 4,
 "nbformat_minor": 4
}
